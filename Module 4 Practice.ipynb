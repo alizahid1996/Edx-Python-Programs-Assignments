{
 "cells": [
  {
   "cell_type": "markdown",
   "metadata": {},
   "source": [
    "# Task 1"
   ]
  },
  {
   "cell_type": "code",
   "execution_count": 1,
   "metadata": {},
   "outputs": [
    {
     "name": "stderr",
     "output_type": "stream",
     "text": [
      "  % Total    % Received % Xferd  Average Speed   Time    Time     Time  Current\n",
      "                                 Dload  Upload   Total   Spent    Left  Speed\n",
      "\n",
      "  0     0    0     0    0     0      0      0 --:--:-- --:--:-- --:--:--     0\n",
      "  0     0    0     0    0     0      0      0 --:--:-- --:--:-- --:--:--     0\n",
      "  0     0    0     0    0     0      0      0 --:--:--  0:00:01 --:--:--     0\n",
      "100    43  100    43    0     0     16      0  0:00:02  0:00:02 --:--:--    16\n",
      "100    43  100    43    0     0     16      0  0:00:02  0:00:02 --:--:--    16\n"
     ]
    }
   ],
   "source": [
    "!curl https://raw.githubusercontent.com/MicrosoftLearning/intropython/master/rainbow -o rainbox.txt"
   ]
  },
  {
   "cell_type": "code",
   "execution_count": 9,
   "metadata": {},
   "outputs": [],
   "source": [
    "rainbow_file = open('rainbow.txt', 'r')"
   ]
  },
  {
   "cell_type": "code",
   "execution_count": 14,
   "metadata": {},
   "outputs": [],
   "source": [
    "rainbow_lines = rainbow_file.readlines()\n",
    "rainbow_lines.sort()\n",
    "\n",
    "for color in rainbow_lines:\n",
    "    print(color)\n"
   ]
  },
  {
   "cell_type": "markdown",
   "metadata": {},
   "source": [
    "# Task 2"
   ]
  },
  {
   "cell_type": "code",
   "execution_count": 1,
   "metadata": {},
   "outputs": [
    {
     "name": "stderr",
     "output_type": "stream",
     "text": [
      "  % Total    % Received % Xferd  Average Speed   Time    Time     Time  Current\n",
      "                                 Dload  Upload   Total   Spent    Left  Speed\n",
      "\n",
      "  0     0    0     0    0     0      0      0 --:--:-- --:--:-- --:--:--     0\n",
      "  0     0    0     0    0     0      0      0 --:--:-- --:--:-- --:--:--     0\n",
      "100   222  100   222    0     0    187      0  0:00:01  0:00:01 --:--:--   187\n",
      "100   222  100   222    0     0    187      0  0:00:01  0:00:01 --:--:--   187\n"
     ]
    }
   ],
   "source": [
    "# The Weather\n",
    "# Create a program that reads from a file to display city name and average temperature in Celsius.\n",
    "!curl https://raw.githubusercontent.com/MicrosoftLearning/intropython/master/world_temp_mean.csv -o mean_temp.txt\n",
    "\n",
    "\n",
    "\n"
   ]
  },
  {
   "cell_type": "code",
   "execution_count": 3,
   "metadata": {},
   "outputs": [
    {
     "name": "stdout",
     "output_type": "stream",
     "text": [
      "city,country,month ave: highest high,month ave: lowest low\n",
      "\n",
      "['city', 'country', 'month ave: highest high', 'month ave: lowest low\\n']\n",
      "city,country,month ave: highest high,month ave: lowest low\n",
      "\n",
      "month ave: highest high for Beijing is 30.9 Celsius\n",
      "month ave: highest high for Cairo is 34.7 Celsius\n",
      "month ave: highest high for London is 23.5 Celsius\n",
      "month ave: highest high for Nairobi is 26.3 Celsius\n",
      "month ave: highest high for New York City is 28.9 Celsius\n",
      "month ave: highest high for Sydney is 26.5 Celsius\n",
      "month ave: highest high for Tokyo is 30.8 Celsius\n"
     ]
    }
   ],
   "source": [
    "mean_temp = open('mean_temp.txt', 'r')\n",
    "headings = mean_temp.readline()\n",
    "print(headings)\n",
    "new = headings.split(',')\n",
    "print(new)\n",
    "print(headings)\n",
    "city_temp = mean_temp.readline()\n",
    "while city_temp:\n",
    "    new2 = city_temp.split(',')\n",
    "    city_temp = mean_temp.readline()\n",
    "    print(\"month ave: highest high for\",new2[0], \"is\", new2[2],\"Celsius\")\n",
    "    "
   ]
  },
  {
   "cell_type": "markdown",
   "metadata": {},
   "source": [
    "# Task 3"
   ]
  },
  {
   "cell_type": "code",
   "execution_count": 6,
   "metadata": {},
   "outputs": [
    {
     "name": "stderr",
     "output_type": "stream",
     "text": [
      "  % Total    % Received % Xferd  Average Speed   Time    Time     Time  Current\n",
      "                                 Dload  Upload   Total   Spent    Left  Speed\n",
      "\n",
      "  0     0    0     0    0     0      0      0 --:--:-- --:--:-- --:--:--     0\n",
      "  0     0    0     0    0     0      0      0 --:--:-- --:--:-- --:--:--     0\n",
      "100   303  100   303    0     0    249      0  0:00:01  0:00:01 --:--:--   249\n"
     ]
    }
   ],
   "source": [
    "!curl https://raw.githubusercontent.com/MicrosoftLearning/intropython/master/digits_of_pi -o pi.txt"
   ]
  },
  {
   "cell_type": "code",
   "execution_count": 14,
   "metadata": {},
   "outputs": [
    {
     "name": "stdout",
     "output_type": "stream",
     "text": [
      "Enter your name: Ali\n",
      "Hi Ali\n",
      "enter a single digit guess or 'q' to quit3\n",
      "Incorrect\n",
      "Type a number:23\n",
      "Incorrect\n",
      "Type a number:1\n",
      "Incorrect\n",
      "Type a number:5\n",
      "Incorrect\n",
      "Type a number:9\n",
      "Incorrect\n",
      "Type a number:23\n",
      "Incorrect\n",
      "Type a number:.\n",
      "Correct: 0\n",
      "Incorrect: 6\n"
     ]
    }
   ],
   "source": [
    "pi_file = open('pi.txt', 'r')\n",
    "user = input(\"Enter your name: \")\n",
    "print(\"Hi\", user)\n",
    "seed = len(user)\n",
    "pi_file.seek(seed)\n",
    "digit = pi_file.read()\n",
    "guess = input(\"enter a single digit guess or 'q' to quit\")\n",
    "correct_count = 0\n",
    "wrong_count = 0\n",
    "while guess.isdigit():\n",
    "    if digit == \".\":\n",
    "        digit = pi_file.read()\n",
    "    elif digit == \"\\n\":\n",
    "        seed += 1\n",
    "        pi_text.seek(seed)\n",
    "    elif guess == digit:\n",
    "        correct_count += 1\n",
    "        print(\"Correct\")\n",
    "        guess = input(\"Type a number:\")\n",
    "    elif guess != digit:\n",
    "        wrong_count += 1\n",
    "        print(\"Incorrect\")\n",
    "        guess = input(\"Type a number:\")\n",
    "print(\"Correct:\", correct_count)\n",
    "print(\"Incorrect:\", wrong_count)"
   ]
  },
  {
   "cell_type": "code",
   "execution_count": null,
   "metadata": {},
   "outputs": [],
   "source": []
  },
  {
   "cell_type": "code",
   "execution_count": null,
   "metadata": {},
   "outputs": [],
   "source": []
  },
  {
   "cell_type": "code",
   "execution_count": null,
   "metadata": {},
   "outputs": [],
   "source": []
  },
  {
   "cell_type": "code",
   "execution_count": null,
   "metadata": {},
   "outputs": [],
   "source": []
  },
  {
   "cell_type": "code",
   "execution_count": null,
   "metadata": {},
   "outputs": [],
   "source": []
  },
  {
   "cell_type": "code",
   "execution_count": null,
   "metadata": {},
   "outputs": [],
   "source": []
  },
  {
   "cell_type": "code",
   "execution_count": null,
   "metadata": {},
   "outputs": [],
   "source": []
  },
  {
   "cell_type": "code",
   "execution_count": null,
   "metadata": {},
   "outputs": [],
   "source": []
  },
  {
   "cell_type": "code",
   "execution_count": null,
   "metadata": {},
   "outputs": [],
   "source": []
  },
  {
   "cell_type": "code",
   "execution_count": null,
   "metadata": {},
   "outputs": [],
   "source": []
  },
  {
   "cell_type": "code",
   "execution_count": null,
   "metadata": {},
   "outputs": [],
   "source": []
  },
  {
   "cell_type": "code",
   "execution_count": null,
   "metadata": {},
   "outputs": [],
   "source": []
  },
  {
   "cell_type": "code",
   "execution_count": null,
   "metadata": {},
   "outputs": [],
   "source": []
  },
  {
   "cell_type": "code",
   "execution_count": null,
   "metadata": {},
   "outputs": [],
   "source": []
  },
  {
   "cell_type": "code",
   "execution_count": null,
   "metadata": {},
   "outputs": [],
   "source": []
  },
  {
   "cell_type": "code",
   "execution_count": null,
   "metadata": {},
   "outputs": [],
   "source": []
  },
  {
   "cell_type": "code",
   "execution_count": null,
   "metadata": {},
   "outputs": [],
   "source": []
  },
  {
   "cell_type": "code",
   "execution_count": null,
   "metadata": {},
   "outputs": [],
   "source": []
  },
  {
   "cell_type": "code",
   "execution_count": null,
   "metadata": {},
   "outputs": [],
   "source": []
  },
  {
   "cell_type": "code",
   "execution_count": null,
   "metadata": {},
   "outputs": [],
   "source": []
  }
 ],
 "metadata": {
  "kernelspec": {
   "display_name": "Python 3",
   "language": "python",
   "name": "python3"
  },
  "language_info": {
   "codemirror_mode": {
    "name": "ipython",
    "version": 3
   },
   "file_extension": ".py",
   "mimetype": "text/x-python",
   "name": "python",
   "nbconvert_exporter": "python",
   "pygments_lexer": "ipython3",
   "version": "3.7.4"
  }
 },
 "nbformat": 4,
 "nbformat_minor": 2
}
