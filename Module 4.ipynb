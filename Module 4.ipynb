{
 "cells": [
  {
   "cell_type": "markdown",
   "metadata": {},
   "source": [
    " # Module 4 Section 1: Files import, open & read  "
   ]
  },
  {
   "cell_type": "markdown",
   "metadata": {},
   "source": [
    "# Import Files into Jupyter"
   ]
  },
  {
   "cell_type": "code",
   "execution_count": 1,
   "metadata": {},
   "outputs": [
    {
     "name": "stderr",
     "output_type": "stream",
     "text": [
      "  % Total    % Received % Xferd  Average Speed   Time    Time     Time  Current\n",
      "                                 Dload  Upload   Total   Spent    Left  Speed\n",
      "\n",
      "  0     0    0     0    0     0      0      0 --:--:-- --:--:-- --:--:--     0\n",
      "  0     0    0     0    0     0      0      0 --:--:-- --:--:-- --:--:--     0\n",
      "100    56  100    56    0     0     36      0  0:00:01  0:00:01 --:--:--    36\n",
      "100    56  100    56    0     0     36      0  0:00:01  0:00:01 --:--:--    36\n"
     ]
    }
   ],
   "source": [
    "!curl https://raw.githubusercontent.com/MicrosoftLearning/intropython/master/poem1.txt -o poem1.txt"
   ]
  },
  {
   "cell_type": "markdown",
   "metadata": {},
   "source": [
    "# Open File in Read Mode"
   ]
  },
  {
   "cell_type": "code",
   "execution_count": 3,
   "metadata": {},
   "outputs": [],
   "source": [
    "# [ ]Run to open the file in memory as poem_file\n",
    "poem_file = open('poem1.txt', 'r')"
   ]
  },
  {
   "cell_type": "code",
   "execution_count": 4,
   "metadata": {},
   "outputs": [
    {
     "data": {
      "text/plain": [
       "<_io.TextIOWrapper name='poem1.txt' mode='r' encoding='cp1252'>"
      ]
     },
     "execution_count": 4,
     "metadata": {},
     "output_type": "execute_result"
    }
   ],
   "source": [
    "poem_file"
   ]
  },
  {
   "cell_type": "markdown",
   "metadata": {},
   "source": [
    "# Task 1"
   ]
  },
  {
   "cell_type": "code",
   "execution_count": 5,
   "metadata": {},
   "outputs": [
    {
     "name": "stderr",
     "output_type": "stream",
     "text": [
      "  % Total    % Received % Xferd  Average Speed   Time    Time     Time  Current\n",
      "                                 Dload  Upload   Total   Spent    Left  Speed\n",
      "\n",
      "  0     0    0     0    0     0      0      0 --:--:-- --:--:-- --:--:--     0\n",
      "  0     0    0     0    0     0      0      0 --:--:-- --:--:-- --:--:--     0\n",
      "  0     0    0     0    0     0      0      0 --:--:--  0:00:01 --:--:--     0\n",
      "100    56  100    56    0     0     33      0  0:00:01  0:00:01 --:--:--    33\n"
     ]
    }
   ],
   "source": [
    "# Task 1\n",
    "# import and open a local file in read mode\n",
    "# Import a list of cities using curl\n",
    "# git the list from https://raw.githubusercontent.com/MicrosoftLearning/intropython/master/cities\n",
    "# name the list cities.txt\n",
    "# open cities.txt in read mode using a variable = cities_file\n",
    "# test that cities_file opened cities.txt with a print statement\n",
    "# [ ] import cities.txt\n",
    "\n",
    "\n",
    "# [ ] open cities.txt as cities_file\n",
    "# [ ] test cities.txt was opened \n",
    "\n",
    "!curl https://raw.githubusercontent.com/MicrosoftLearning/intropython/master/cities -o cities.txt"
   ]
  },
  {
   "cell_type": "code",
   "execution_count": 10,
   "metadata": {},
   "outputs": [
    {
     "name": "stdout",
     "output_type": "stream",
     "text": [
      "<_io.TextIOWrapper name='cities.txt' mode='r' encoding='cp1252'>\n"
     ]
    }
   ],
   "source": [
    "cities_file = open('cities.txt', 'r')\n",
    "print(cities_file)"
   ]
  },
  {
   "cell_type": "markdown",
   "metadata": {},
   "source": [
    "# .read() method"
   ]
  },
  {
   "cell_type": "code",
   "execution_count": 8,
   "metadata": {},
   "outputs": [
    {
     "name": "stdout",
     "output_type": "stream",
     "text": [
      "Loops I repeat\n",
      "loops\n",
      "loops\n",
      "loops\n",
      "I repeat\n",
      "until I\n",
      "break\n",
      "\n"
     ]
    }
   ],
   "source": [
    "poem_contents = poem_file.read()\n",
    "print(poem_contents)"
   ]
  },
  {
   "cell_type": "markdown",
   "metadata": {},
   "source": [
    "# Task 2"
   ]
  },
  {
   "cell_type": "code",
   "execution_count": 11,
   "metadata": {},
   "outputs": [
    {
     "name": "stdout",
     "output_type": "stream",
     "text": [
      "Beijing\n",
      "Cairo\n",
      "London\n",
      "Nairobi\n",
      "New York City\n",
      "Sydney\n",
      "Tokyo\n",
      "\n"
     ]
    }
   ],
   "source": [
    "cities = cities_file.read()\n",
    "print(cities)"
   ]
  },
  {
   "cell_type": "markdown",
   "metadata": {},
   "source": [
    "# .read() a number of characters"
   ]
  },
  {
   "cell_type": "code",
   "execution_count": 17,
   "metadata": {},
   "outputs": [
    {
     "name": "stdout",
     "output_type": "stream",
     "text": [
      "Loops I re\n",
      "\n",
      "loops\n",
      "loo\n"
     ]
    }
   ],
   "source": [
    "poem_file = open('poem1.txt', 'r')\n",
    "poem_10char = poem_file.read(10)\n",
    "print(poem_10char)\n",
    "poem_file.read(10)\n",
    "poem_parts = poem_file.read(10)\n",
    "print(poem_parts)"
   ]
  },
  {
   "cell_type": "code",
   "execution_count": 25,
   "metadata": {},
   "outputs": [
    {
     "name": "stdout",
     "output_type": "stream",
     "text": [
      "\n",
      "loops\n",
      "loops\n",
      "I repeat\n",
      "until I\n",
      "break\n",
      "\n"
     ]
    }
   ],
   "source": [
    "poem_parts += poem_file.read(5)\n",
    "print(poem_parts)"
   ]
  },
  {
   "cell_type": "markdown",
   "metadata": {},
   "source": [
    "# Task 3"
   ]
  },
  {
   "cell_type": "code",
   "execution_count": 5,
   "metadata": {},
   "outputs": [
    {
     "name": "stderr",
     "output_type": "stream",
     "text": [
      "  % Total    % Received % Xferd  Average Speed   Time    Time     Time  Current\n",
      "                                 Dload  Upload   Total   Spent    Left  Speed\n",
      "\n",
      "  0     0    0     0    0     0      0      0 --:--:-- --:--:-- --:--:--     0\n",
      "  0     0    0     0    0     0      0      0 --:--:-- --:--:-- --:--:--     0\n",
      "100   303  100   303    0     0    198      0  0:00:01  0:00:01 --:--:--   198\n",
      "100   303  100   303    0     0    198      0  0:00:01  0:00:01 --:--:--   198\n"
     ]
    }
   ],
   "source": [
    "!curl https://raw.githubusercontent.com/MicrosoftLearning/intropython/master/digits_of_pi -o digits_of_pi_text"
   ]
  },
  {
   "cell_type": "code",
   "execution_count": 7,
   "metadata": {},
   "outputs": [
    {
     "name": "stdout",
     "output_type": "stream",
     "text": [
      "3.14\n"
     ]
    }
   ],
   "source": [
    "digitsOfPi = open('digits_of_pi_text','r')\n",
    "pi_digits = digitsOfPi.read(4)\n",
    "print(pi_digits)"
   ]
  },
  {
   "cell_type": "code",
   "execution_count": 88,
   "metadata": {},
   "outputs": [
    {
     "name": "stdout",
     "output_type": "stream",
     "text": [
      "3.141592653589793238462643383279502884197169399375105820974944592307816406286208998628034825342117067982148086513282306647093844609550582231725359408128481117450284102701938521105559644622948954930381964428810975665933446128475648233786783165271201909145648566923460348610454326648213393607260249141273\n",
      "\n"
     ]
    }
   ],
   "source": [
    "pi_digits += digitsOfPi.read(4)\n",
    "print(pi_digits)"
   ]
  },
  {
   "cell_type": "markdown",
   "metadata": {},
   "source": [
    "# using .read() strings"
   ]
  },
  {
   "cell_type": "markdown",
   "metadata": {},
   "source": [
    "# Task 4"
   ]
  },
  {
   "cell_type": "code",
   "execution_count": 89,
   "metadata": {},
   "outputs": [
    {
     "name": "stderr",
     "output_type": "stream",
     "text": [
      "  % Total    % Received % Xferd  Average Speed   Time    Time     Time  Current\n",
      "                                 Dload  Upload   Total   Spent    Left  Speed\n",
      "\n",
      "  0     0    0     0    0     0      0      0 --:--:-- --:--:-- --:--:--     0\n",
      "  0     0    0     0    0     0      0      0 --:--:-- --:--:-- --:--:--     0\n",
      "100    56  100    56    0     0     40      0  0:00:01  0:00:01 --:--:--    40\n",
      "100    56  100    56    0     0     40      0  0:00:01  0:00:01 --:--:--    40\n"
     ]
    }
   ],
   "source": [
    "# City Initials\n",
    "# Read the file cities.text that was imported in task 1\n",
    "# ensure the code was created and run in task 1 to import cities.txt\n",
    "# create and run code to re-open cities.txt as cities_file\n",
    "# read() cities_file into a variable called cities\n",
    "# iterate through the characters in cities\n",
    "# test if .isupper(), if True append the character to a string variable: initials\n",
    "# else if (elif) character is \"\\n\", if True append the \"\\n\" to initials\n",
    "# print initials\n",
    "\n",
    "!curl https://raw.githubusercontent.com/MicrosoftLearning/intropython/master/cities -o cities.txt\n",
    "\n",
    "\n",
    "\n",
    "\n",
    "\n",
    "\n"
   ]
  },
  {
   "cell_type": "code",
   "execution_count": 94,
   "metadata": {},
   "outputs": [
    {
     "name": "stdout",
     "output_type": "stream",
     "text": [
      "B\n",
      "C\n",
      "L\n",
      "N\n",
      "NYC\n",
      "S\n",
      "T\n",
      "\n"
     ]
    }
   ],
   "source": [
    "cities_file = open('cities.txt', 'r')\n",
    "initials = \"\"\n",
    "cities = cities_file.read()\n",
    "for i in cities:\n",
    "    if i.isupper():\n",
    "        initials += i\n",
    "    elif i == \"\\n\":\n",
    "        initials += i\n",
    "print(initials)\n",
    "    "
   ]
  },
  {
   "cell_type": "markdown",
   "metadata": {},
   "source": [
    "# Module 4 Section 2: .readlines() & .close() methods"
   ]
  },
  {
   "cell_type": "markdown",
   "metadata": {},
   "source": [
    "# .readlines() method"
   ]
  },
  {
   "cell_type": "code",
   "execution_count": 2,
   "metadata": {},
   "outputs": [
    {
     "name": "stderr",
     "output_type": "stream",
     "text": [
      "  % Total    % Received % Xferd  Average Speed   Time    Time     Time  Current\n",
      "                                 Dload  Upload   Total   Spent    Left  Speed\n",
      "\n",
      "  0     0    0     0    0     0      0      0 --:--:-- --:--:-- --:--:--     0\n",
      "  0     0    0     0    0     0      0      0 --:--:-- --:--:-- --:--:--     0\n",
      "100    56  100    56    0     0     64      0 --:--:-- --:--:-- --:--:--    64\n"
     ]
    }
   ],
   "source": [
    "!curl https://raw.githubusercontent.com/MicrosoftLearning/intropython/master/poem1.txt -o poem1.txt\n",
    "poem1 = open('poem1.txt', 'r')\n",
    "\n",
    "\n",
    "\n",
    "\n",
    "\n",
    "\n",
    "\n"
   ]
  },
  {
   "cell_type": "code",
   "execution_count": 3,
   "metadata": {},
   "outputs": [
    {
     "name": "stdout",
     "output_type": "stream",
     "text": [
      "Loops I repeat\n",
      "\n",
      "loops\n",
      "\n",
      "loops\n",
      "\n",
      "loops\n",
      "\n",
      "I repeat\n",
      "\n",
      "until I\n",
      "\n",
      "break\n",
      "\n"
     ]
    }
   ],
   "source": [
    "poem_lines = poem1.readlines()\n",
    "poem_lines\n",
    "for line in poem_lines:\n",
    "    print(line)"
   ]
  },
  {
   "cell_type": "markdown",
   "metadata": {},
   "source": [
    "# Task 1"
   ]
  },
  {
   "cell_type": "code",
   "execution_count": 6,
   "metadata": {},
   "outputs": [
    {
     "name": "stderr",
     "output_type": "stream",
     "text": [
      "  % Total    % Received % Xferd  Average Speed   Time    Time     Time  Current\n",
      "                                 Dload  Upload   Total   Spent    Left  Speed\n",
      "\n",
      "  0     0    0     0    0     0      0      0 --:--:-- --:--:-- --:--:--     0\n",
      "  0     0    0     0    0     0      0      0 --:--:-- --:--:-- --:--:--     0\n",
      "100    56  100    56    0     0     30      0  0:00:01  0:00:01 --:--:--    30\n",
      "100    56  100    56    0     0     30      0  0:00:01  0:00:01 --:--:--    30\n"
     ]
    }
   ],
   "source": [
    "# .readlines()\n",
    "# open the cities file as a list\n",
    "# Import a list of cities using curl\n",
    "# git the list from https://raw.githubusercontent.com/MicrosoftLearning/intropython/master/cities\n",
    "# name the list cities.txt\n",
    "# Open cities.txt in read mode using a variable: cities_file\n",
    "# Read cities_file as a list variable: cities_lines using .readlines()\n",
    "# Print each line of cities_lines by iterating the list\n",
    "\n",
    "!curl https://raw.githubusercontent.com/MicrosoftLearning/intropython/master/cities -o cities.txt\n",
    "\n",
    "\n",
    "\n"
   ]
  },
  {
   "cell_type": "code",
   "execution_count": 12,
   "metadata": {},
   "outputs": [
    {
     "name": "stdout",
     "output_type": "stream",
     "text": [
      "Beijing\n",
      "Cairo\n",
      "London\n",
      "Nairobi\n",
      "New York City\n",
      "Sydney\n",
      "Tokyo\n"
     ]
    }
   ],
   "source": [
    "cities_file = open('cities.txt', 'r')\n",
    "cities_lines = cities_file.readlines()\n",
    "for i in cities_lines:\n",
    "    print(i,end=\"\")"
   ]
  },
  {
   "cell_type": "markdown",
   "metadata": {},
   "source": [
    "# .readlines() list return"
   ]
  },
  {
   "cell_type": "markdown",
   "metadata": {},
   "source": [
    "# Task 2"
   ]
  },
  {
   "cell_type": "code",
   "execution_count": 14,
   "metadata": {},
   "outputs": [
    {
     "name": "stdout",
     "output_type": "stream",
     "text": [
      "Beijing\n",
      "Cairo\n",
      "London\n",
      "Nairobi\n",
      "New York City\n",
      "Sydney\n",
      "Tokyo\n"
     ]
    }
   ],
   "source": [
    "# remove newline characters from cities lists created using .readlines()\n",
    "count = 0\n",
    "for i in cities_lines:\n",
    "    cities_lines[count] = i[:-1]\n",
    "    count += 1\n",
    "    print(i)\n",
    "\n",
    "\n",
    "\n",
    "\n",
    "\n",
    "\n",
    "\n"
   ]
  },
  {
   "cell_type": "markdown",
   "metadata": {},
   "source": [
    "# .close() method"
   ]
  },
  {
   "cell_type": "markdown",
   "metadata": {},
   "source": [
    "# Task 3"
   ]
  },
  {
   "cell_type": "code",
   "execution_count": 7,
   "metadata": {},
   "outputs": [],
   "source": [
    "# File .close()\n",
    "#write each item in it's own cell\n",
    "\n",
    "# open cities.txt as cities_file\n",
    "# read the lines as cities_lines\n",
    "# print the cities that start with the letter \"D\" or greater\n",
    "# close cities_file\n",
    "# test that file is closed\n",
    "\n",
    "\n",
    "cities_file = open('cities.txt', 'r')"
   ]
  },
  {
   "cell_type": "code",
   "execution_count": 8,
   "metadata": {},
   "outputs": [],
   "source": [
    "cities_lines = cities_file.readlines()"
   ]
  },
  {
   "cell_type": "code",
   "execution_count": 9,
   "metadata": {},
   "outputs": [
    {
     "name": "stdout",
     "output_type": "stream",
     "text": [
      "London\n",
      "\n",
      "Nairobi\n",
      "\n",
      "New York City\n",
      "\n",
      "Sydney\n",
      "\n",
      "Tokyo\n",
      "\n"
     ]
    }
   ],
   "source": [
    "for i in cities_lines:\n",
    "    if i >= \"D\" or i >= \"d\":\n",
    "        print(i)\n",
    "    else:\n",
    "        pass\n",
    "cities_file.close()"
   ]
  },
  {
   "cell_type": "markdown",
   "metadata": {},
   "source": [
    "# Task 4\n"
   ]
  },
  {
   "cell_type": "code",
   "execution_count": 8,
   "metadata": {},
   "outputs": [],
   "source": [
    "# readlines() poem2\n",
    "# write each item in its own cell\n",
    "# import https://raw.githubusercontent.com/MicrosoftLearning/intropython/master/poem2.txt as poem2.txt\n",
    "# open poem2.txt as poem2_file in read mode\n",
    "# create a list of strings, called poem2_lines, from each line of poem2_text (use .readlines())\n",
    "# remove the newline character for each list item in poem2_lines\n",
    "# print the poem2 lines in reverse order\n",
    "\n",
    "\n",
    "\n"
   ]
  },
  {
   "cell_type": "code",
   "execution_count": 14,
   "metadata": {},
   "outputs": [
    {
     "name": "stdout",
     "output_type": "stream",
     "text": [
      "ORiginal: \n",
      " ['while True', 'I loop', 'True', 'loop', 'True', 'loop', 'not True', 'False', 'end'] \n",
      "\n",
      "Reveresed: \n",
      " ['end', 'False', 'not True', 'loop', 'True', 'loop', 'True', 'I loop', 'while True']\n"
     ]
    },
    {
     "name": "stderr",
     "output_type": "stream",
     "text": [
      "  % Total    % Received % Xferd  Average Speed   Time    Time     Time  Current\n",
      "                                 Dload  Upload   Total   Spent    Left  Speed\n",
      "\n",
      "  0     0    0     0    0     0      0      0 --:--:-- --:--:-- --:--:--     0\n",
      "  0     0    0     0    0     0      0      0 --:--:-- --:--:-- --:--:--     0\n",
      "100    57  100    57    0     0     76      0 --:--:-- --:--:-- --:--:--    75\n"
     ]
    }
   ],
   "source": [
    "!curl https://raw.githubusercontent.com/MicrosoftLearning/intropython/master/poem2.txt -o poem2.txt\n",
    "poem2_text = open('poem2.txt', 'r')\n",
    "poem2_lines = poem2_text.readlines()\n",
    "index = 0\n",
    "for line in poem2_lines:\n",
    "    poem2_lines[index] = line[:-1]\n",
    "    index += 1\n",
    "    \n",
    "print(\"ORiginal:\" ,\"\\n\", poem2_lines, \"\\n\")\n",
    "# reversing now\n",
    "poem2_lines.reverse()\n",
    "print(\"Reveresed:\" ,\"\\n\",poem2_lines)\n"
   ]
  },
  {
   "cell_type": "markdown",
   "metadata": {},
   "source": [
    "# Module 4 Section 3: .readline() & .strip() methods"
   ]
  },
  {
   "cell_type": "markdown",
   "metadata": {},
   "source": [
    "# Task 1"
   ]
  },
  {
   "cell_type": "code",
   "execution_count": 4,
   "metadata": {},
   "outputs": [
    {
     "name": "stderr",
     "output_type": "stream",
     "text": [
      "  % Total    % Received % Xferd  Average Speed   Time    Time     Time  Current\n",
      "                                 Dload  Upload   Total   Spent    Left  Speed\n",
      "\n",
      "  0     0    0     0    0     0      0      0 --:--:-- --:--:-- --:--:--     0\n",
      "  0     0    0     0    0     0      0      0 --:--:-- --:--:-- --:--:--     0\n",
      "  0     0    0     0    0     0      0      0 --:--:--  0:00:01 --:--:--     0\n",
      "  0     0    0     0    0     0      0      0 --:--:--  0:00:02 --:--:--     0\n",
      "100    43  100    43    0     0     12      0  0:00:03  0:00:03 --:--:--    12\n",
      "100    43  100    43    0     0     12      0  0:00:03  0:00:03 --:--:--    12\n"
     ]
    }
   ],
   "source": [
    "#use readline to get rainbow colors\n",
    "# import https://raw.githubusercontent.com/MicrosoftLearning/intropython/master/rainbow as rainbow.txt\n",
    "# open rainbow.txt as rainbow_file as read-only\n",
    "# read the first 3 lines into variables: color1, color2, color3\n",
    "# close rainbow_file\n",
    "# print the first 3 colors\n",
    "\n",
    "!curl https://raw.githubusercontent.com/MicrosoftLearning/intropython/master/rainbow -o rainbow.txt\n",
    "\n"
   ]
  },
  {
   "cell_type": "code",
   "execution_count": 7,
   "metadata": {},
   "outputs": [],
   "source": [
    "rainbow_file = open('rainbow.txt', 'r')"
   ]
  },
  {
   "cell_type": "code",
   "execution_count": 8,
   "metadata": {},
   "outputs": [
    {
     "name": "stdout",
     "output_type": "stream",
     "text": [
      "red\n",
      "orange\n",
      "<built-in method readline of _io.TextIOWrapper object at 0x000002E4393B5E48>\n"
     ]
    }
   ],
   "source": [
    "\n",
    "color1 = rainbow_file.readline()\n",
    "color2 = rainbow_file.readline()\n",
    "color3 = rainbow_file.readline\n",
    "print(str(color1) + str(color2) + str(color3))\n",
    "\n",
    "\n",
    "\n"
   ]
  },
  {
   "cell_type": "markdown",
   "metadata": {},
   "source": [
    "# readline() while loop"
   ]
  },
  {
   "cell_type": "markdown",
   "metadata": {},
   "source": [
    "# Task 2"
   ]
  },
  {
   "cell_type": "code",
   "execution_count": 1,
   "metadata": {},
   "outputs": [
    {
     "name": "stderr",
     "output_type": "stream",
     "text": [
      "  % Total    % Received % Xferd  Average Speed   Time    Time     Time  Current\n",
      "                                 Dload  Upload   Total   Spent    Left  Speed\n",
      "\n",
      "  0     0    0     0    0     0      0      0 --:--:-- --:--:-- --:--:--     0\n",
      "  0     0    0     0    0     0      0      0 --:--:--  0:00:01 --:--:--     0\n",
      "100    43  100    43    0     0     20      0  0:00:02  0:00:02 --:--:--    20\n",
      "100    43  100    43    0     0     20      0  0:00:02  0:00:02 --:--:--    20\n"
     ]
    }
   ],
   "source": [
    "!curl https://raw.githubusercontent.com/MicrosoftLearning/intropython/master/rainbow -o rainbow.txt"
   ]
  },
  {
   "cell_type": "code",
   "execution_count": 2,
   "metadata": {},
   "outputs": [
    {
     "name": "stdout",
     "output_type": "stream",
     "text": [
      "RED\n",
      "ORANGE\n",
      "YELLOW\n",
      "GREEN\n",
      "BLUE\n",
      "INDIGO\n",
      "VIOLET\n"
     ]
    }
   ],
   "source": [
    "rainbow_file = open('rainbow.txt', 'r')\n",
    "rainbow = rainbow_file.readline()\n",
    "while rainbow:\n",
    "    print(rainbow[:-1].upper())\n",
    "    rainbow = rainbow_file.readline()"
   ]
  },
  {
   "cell_type": "markdown",
   "metadata": {},
   "source": [
    "# .readline() with .strip()"
   ]
  },
  {
   "cell_type": "markdown",
   "metadata": {},
   "source": [
    "# Task 3"
   ]
  },
  {
   "cell_type": "code",
   "execution_count": 4,
   "metadata": {},
   "outputs": [
    {
     "name": "stdout",
     "output_type": "stream",
     "text": [
      "RED\n",
      "ORANGE\n",
      "YELLOW\n",
      "GREEN\n",
      "BLUE\n",
      "INDIGO\n",
      "VIOLET\n"
     ]
    }
   ],
   "source": [
    "# assumes rainbow.tx has been imported in task 1\n",
    "\n",
    "# open rainbow.txt as rainbow_file as read-only\n",
    "# read a color from each line of rainbow_file in a while loop\n",
    "# use .strip to remove the whitespace\n",
    "# print each color upper case\n",
    "# close rainbow_file\n",
    "\n",
    "rainbow_file = open('rainbow.txt', 'r')\n",
    "rainbow_line = rainbow_file.readline().strip()\n",
    "while rainbow_line:\n",
    "    \n",
    "    print(rainbow_line.upper())\n",
    "    rainbow_line = rainbow_file.readline().strip()\n",
    "rainbow_file.close()"
   ]
  },
  {
   "cell_type": "markdown",
   "metadata": {},
   "source": [
    "# strip() method arguments"
   ]
  },
  {
   "cell_type": "markdown",
   "metadata": {},
   "source": [
    "# Task 4"
   ]
  },
  {
   "cell_type": "code",
   "execution_count": 2,
   "metadata": {},
   "outputs": [
    {
     "name": "stderr",
     "output_type": "stream",
     "text": [
      "  % Total    % Received % Xferd  Average Speed   Time    Time     Time  Current\n",
      "                                 Dload  Upload   Total   Spent    Left  Speed\n",
      "\n",
      "  0     0    0     0    0     0      0      0 --:--:-- --:--:-- --:--:--     0\n",
      "100    77  100    77    0     0     88      0 --:--:-- --:--:-- --:--:--    88\n"
     ]
    }
   ],
   "source": [
    "# run import of cities_messy.txt below at least once this notebook session\n",
    "# run open cities_messy.txt below before each test of the while loop cell\n",
    "# edit while loop to strip the colon ':' , newline and spaces\n",
    "# close cities_messy\n",
    "\n",
    "!curl https://raw.githubusercontent.com/MicrosoftLearning/intropython/master/cities_messy -o cities_messy.txt\n",
    "    "
   ]
  },
  {
   "cell_type": "code",
   "execution_count": 3,
   "metadata": {},
   "outputs": [],
   "source": [
    "cities_messy = open('cities_messy.txt', 'r')"
   ]
  },
  {
   "cell_type": "code",
   "execution_count": 4,
   "metadata": {},
   "outputs": [
    {
     "name": "stdout",
     "output_type": "stream",
     "text": [
      "  Beijing\n",
      "  Cairo\n",
      "  London\n",
      "  Nairobi\n",
      "  New York City\n",
      "  Sydney\n",
      "  Tokyo\n"
     ]
    }
   ],
   "source": [
    "line = cities_messy.readline().strip(\":\\n\")\n",
    "while line:\n",
    "    print(line)\n",
    "    line = cities_messy.readline().strip(\":\\n\")"
   ]
  },
  {
   "cell_type": "markdown",
   "metadata": {},
   "source": [
    "# Task 5"
   ]
  },
  {
   "cell_type": "code",
   "execution_count": 1,
   "metadata": {},
   "outputs": [
    {
     "name": "stderr",
     "output_type": "stream",
     "text": [
      "  % Total    % Received % Xferd  Average Speed   Time    Time     Time  Current\n",
      "                                 Dload  Upload   Total   Spent    Left  Speed\n",
      "\n",
      "  0     0    0     0    0     0      0      0 --:--:-- --:--:-- --:--:--     0\n",
      "  0     0    0     0    0     0      0      0 --:--:-- --:--:-- --:--:--     0\n",
      "100    75  100    75    0     0     77      0 --:--:-- --:--:-- --:--:--    77\n"
     ]
    }
   ],
   "source": [
    "!curl https://raw.githubusercontent.com/MicrosoftLearning/intropython/master/poem2_messy -o poem2_messy.txt"
   ]
  },
  {
   "cell_type": "code",
   "execution_count": 2,
   "metadata": {},
   "outputs": [],
   "source": [
    "poem2_messy = open('poem2_messy.txt', 'r')"
   ]
  },
  {
   "cell_type": "code",
   "execution_count": 3,
   "metadata": {},
   "outputs": [
    {
     "name": "stdout",
     "output_type": "stream",
     "text": [
      "while True\n",
      "I loop\n",
      "True\n",
      "loop\n",
      "True\n",
      "loop\n",
      "not True\n",
      "False\n",
      "end\n"
     ]
    }
   ],
   "source": [
    "line = poem2_messy.readline().strip(\"()\\n\")\n",
    "while line:\n",
    "    print(line)\n",
    "    line = poem2_messy.readline().strip(\"()\\n\")\n",
    "    "
   ]
  },
  {
   "cell_type": "markdown",
   "metadata": {},
   "source": [
    "# Module 4 Section 4: .write() & .seek() methods"
   ]
  },
  {
   "cell_type": "markdown",
   "metadata": {},
   "source": [
    "# w' or 'w+' modes"
   ]
  },
  {
   "cell_type": "code",
   "execution_count": 5,
   "metadata": {},
   "outputs": [
    {
     "name": "stdout",
     "output_type": "stream",
     "text": [
      "This is line #1 with 'w'\n",
      "This is line #2 with 'w'\n",
      "This is line #3 withn 'w'!\n",
      "\n"
     ]
    }
   ],
   "source": [
    "new_file = open('new_file.txt', 'w')\n",
    "new_file.write(\"This is line #1 with 'w'\\nThis is line #2 with 'w'\\nThis is line #3 withn 'w'!\\n\")\n",
    "new_file.close()\n",
    "new_file = open('new_file.txt', 'r')\n",
    "new_text = new_file.read()\n",
    "print(new_text)\n",
    "new_file.close()"
   ]
  },
  {
   "cell_type": "markdown",
   "metadata": {},
   "source": [
    "# Task 1"
   ]
  },
  {
   "cell_type": "code",
   "execution_count": null,
   "metadata": {},
   "outputs": [],
   "source": [
    "#create a local file\n",
    "#open in 'w' mode\n",
    "#open inner_planets.txt in write mode 'w' to create a local file\n",
    "#write the first four planets from the sun in earth's solar system (Mercury, Venus, Earth, Mars) on separate lines\n",
    "#close the file and re-open in read mode 'r'\n",
    "#use .read() to read the entire file contents\n",
    "#print the entire file contents"
   ]
  },
  {
   "cell_type": "code",
   "execution_count": 6,
   "metadata": {},
   "outputs": [
    {
     "name": "stdout",
     "output_type": "stream",
     "text": [
      "Mercury\n",
      "Venus\n",
      "Earth\n",
      "Mars\n"
     ]
    }
   ],
   "source": [
    "planets = open('inner_planets.txt', 'w')\n",
    "planets.write(\"Mercury\\nVenus\\nEarth\\nMars\")\n",
    "planets.close()\n",
    "planets = open('inner_planets.txt', 'r')\n",
    "lines = planets.read()\n",
    "print(lines)\n"
   ]
  },
  {
   "cell_type": "markdown",
   "metadata": {},
   "source": [
    "# .seek(0) method"
   ]
  },
  {
   "cell_type": "markdown",
   "metadata": {},
   "source": [
    "# Task 2"
   ]
  },
  {
   "cell_type": "code",
   "execution_count": 9,
   "metadata": {},
   "outputs": [
    {
     "name": "stdout",
     "output_type": "stream",
     "text": [
      "Jupiter\n",
      "Saturn\n",
      "Uranus\n",
      "Neptune\n",
      "Pluto\n"
     ]
    }
   ],
   "source": [
    "# open outer_planets.txt in 'w+' mode (write plus read)\n",
    "# open outer_planets.txt in write plus read mode 'w+'\n",
    "# write four outer planets in earth's solar system (Jupiter, Saturn, Uranus, Neptune) on separate lines\n",
    "# use .seek() to move the pointer to the start of the file\n",
    "# use .read() to read the entire file contents\n",
    "# print the entire file contents and close the file\n",
    "\n",
    "file = open('outer_planets', 'w+')\n",
    "file.write(\"Jupiter\\nSaturn\\nUranus\\nNeptune\\nPluto\")\n",
    "file.seek(0)\n",
    "lines = file.read()\n",
    "print(lines)\n",
    "file.close()\n",
    "\n",
    "\n",
    "\n"
   ]
  },
  {
   "cell_type": "markdown",
   "metadata": {},
   "source": [
    "# .seek() offset & whence"
   ]
  },
  {
   "cell_type": "code",
   "execution_count": 21,
   "metadata": {},
   "outputs": [
    {
     "name": "stdout",
     "output_type": "stream",
     "text": [
      "-use simple function and variable names\n",
      "-comment code\n",
      "-organize code into functions\n",
      "\n",
      "unction and variable names\n",
      "-comment code\n",
      "-organize code into functions\n",
      "\n",
      "unction and variable names\n",
      "-comment code\n",
      "-organize code into functions\n",
      "\n"
     ]
    }
   ],
   "source": [
    "# [ ] review and run - create, write, read and print a file\n",
    "tips_file = open('code_tips.txt', 'w+')\n",
    "tips_file.write('-use simple function and variable names\\n-comment code\\n-organize code into functions\\n')\n",
    "tips_file.seek(0)\n",
    "tips_text = tips_file.read()\n",
    "print(tips_text)\n",
    "\n",
    "# [ ] review and run example - setting a specific seek() index \n",
    "tips_file.seek(13)\n",
    "# now read starts from 14th character of file\n",
    "tips_text = tips_file.read()\n",
    "print(tips_text)\n",
    "\n",
    "# [ ] review and run example - string slicing on a read of an entire file\n",
    "# read from the start\n",
    "tips_file.seek(0)\n",
    "tips_text = tips_file.read()\n",
    "# slice from the 14th character to end\n",
    "print(tips_text[13:])"
   ]
  },
  {
   "cell_type": "code",
   "execution_count": 24,
   "metadata": {},
   "outputs": [
    {
     "name": "stdout",
     "output_type": "stream",
     "text": [
      "-use simple function and variable names\n",
      "-comment code\n",
      "-organize code into functions\n",
      "-use seek(0,2) to set read/write at end of file\n",
      "-use seek(0,2) to set read/write at end of file\n",
      "-use seek(0,2) to set read/write at end of file\n",
      "\n",
      "-USE SIMPLE FUNCTION AND VARIABLE NAMES\n",
      "-comment code\n",
      "-organize code into functions\n",
      "-use seek(0,2) to set read/write at end of file\n",
      "-use seek(0,2) to set read/write at end of file\n",
      "-use seek(0,2) to set read/write at end of file\n",
      "\n"
     ]
    }
   ],
   "source": [
    "tips_file.seek(0,2)\n",
    "tips_file.write(\"-use seek(0,2) to set read/write at end of file\\n\")\n",
    "tips_file.seek(0,0)\n",
    "tips_text = tips_file.read()\n",
    "print(tips_text)\n",
    "# [ ] review and run example - point to file beginning and overwrite 1st line\n",
    "tips_file.seek(0)\n",
    "tips_file.write('-use simple function and variable names\\n'.upper())\n",
    "\n",
    "# [ ] review and run example - show new file contents\n",
    "tips_file.seek(0,0)\n",
    "tips_text = tips_file.read()\n",
    "print(tips_text)"
   ]
  },
  {
   "cell_type": "markdown",
   "metadata": {},
   "source": [
    "# Task 3"
   ]
  },
  {
   "cell_type": "code",
   "execution_count": null,
   "metadata": {},
   "outputs": [],
   "source": [
    "#seek() with optional whence argument\n",
    "#open a new file days.txt in write plus read mode 'w+'\n",
    "#write week days (Monday - Friday) on separate lines\n",
    "#use .seek() to move the pointer to the start of the file\n",
    "#use .read() to read the entire file contents\n",
    "#print the entire file contents and close the file\n",
    "#use .seek() to move the pointer to the end of the file and write the weekend days (Saturday & Sunday)\n",
    "#use .seek() to move the pointer to the start of the file\n",
    "#use .read() to read the entire file contents\n",
    "#print the entire file contents and close the file"
   ]
  },
  {
   "cell_type": "code",
   "execution_count": 30,
   "metadata": {},
   "outputs": [
    {
     "name": "stdout",
     "output_type": "stream",
     "text": [
      "Monday\n",
      "Tuesday\n",
      "Wednesday\n",
      "Thursday\n",
      "Friday\n",
      "Saturday\n",
      "Sunday\n"
     ]
    }
   ],
   "source": [
    "days = open('days.txt', 'w+')\n",
    "days.write(\"Monday\\nTuesday\\nWednesday\\nThursday\\nFriday\")\n",
    "days.seek(0)\n",
    "day = days.read()\n",
    "print(day)\n",
    "days.close()\n",
    "days = open('days.txt', 'w+')\n",
    "days.seek(0,2)\n",
    "days.write(\"Saturday\\nSunday\")\n",
    "days.seek(0)\n",
    "day = days.read()\n",
    "print(day)"
   ]
  },
  {
   "cell_type": "markdown",
   "metadata": {},
   "source": [
    "# writable modes"
   ]
  },
  {
   "cell_type": "markdown",
   "metadata": {},
   "source": [
    "# writing to a file"
   ]
  },
  {
   "cell_type": "code",
   "execution_count": 1,
   "metadata": {},
   "outputs": [
    {
     "name": "stderr",
     "output_type": "stream",
     "text": [
      "  % Total    % Received % Xferd  Average Speed   Time    Time     Time  Current\n",
      "                                 Dload  Upload   Total   Spent    Left  Speed\n",
      "\n",
      "  0     0    0     0    0     0      0      0 --:--:-- --:--:-- --:--:--     0\n",
      "  0     0    0     0    0     0      0      0 --:--:-- --:--:-- --:--:--     0\n",
      "100    56  100    56    0     0     35      0  0:00:01  0:00:01 --:--:--    35\n"
     ]
    }
   ],
   "source": [
    "!curl https://raw.githubusercontent.com/MicrosoftLearning/intropython/master/poem1.txt -o poem1.txt\n"
   ]
  },
  {
   "cell_type": "code",
   "execution_count": 4,
   "metadata": {},
   "outputs": [
    {
     "name": "stdout",
     "output_type": "stream",
     "text": [
      "Goodbye, this is the end of the file\n",
      "Goodbye, this is the end of the file\n",
      "Goodbye, this is the end of the file\n",
      "Goodbye, this is the end of the file\n",
      "Goodbye, this is the end of the file\n",
      "Goodbye, this is the end of the file\n",
      "Goodbye, this is the end of the file\n",
      "\n"
     ]
    }
   ],
   "source": [
    "poem_file = open('poem1.txt', 'r+') \n",
    "poem_file.write(\"Hello World!\\n\")\n",
    "poem_file = open('poem.txt', 'a+') \n",
    "poem_file.write(\"Goodbye, this is the end of the file\\n\")\n",
    "poem_file.seek(0)\n",
    "file = poem_file.read()\n",
    "print(file)"
   ]
  },
  {
   "cell_type": "code",
   "execution_count": 3,
   "metadata": {},
   "outputs": [],
   "source": [
    "def logger(log):\n",
    "    log_entry = input(\"enter log item (enter to quit): \")\n",
    "    count = 0\n",
    "\n",
    "    while log_entry:\n",
    "        count += 1\n",
    "        log.write(str(count) + \": \" + log_entry + \"\\n\")\n",
    "        log_entry = input(\"enter log item (enter to quit): \")\n",
    "        \n",
    "    return count"
   ]
  },
  {
   "cell_type": "code",
   "execution_count": 4,
   "metadata": {},
   "outputs": [],
   "source": [
    "log_file = open('log_file.txt', 'a+')\n",
    "# [ ] review and run example - calls the above logger() function\n",
    "# what happens running the cell above (a+) again before running this cell again? \n",
    "# what happens if log_file.seek(0) is run before an append?"
   ]
  },
  {
   "cell_type": "code",
   "execution_count": 5,
   "metadata": {},
   "outputs": [
    {
     "name": "stdout",
     "output_type": "stream",
     "text": [
      "enter log item (enter to quit): 3\n",
      "enter log item (enter to quit): 4\n",
      "enter log item (enter to quit): \n",
      "enter log item (enter to quit): \n"
     ]
    }
   ],
   "source": [
    "\n",
    "logger(log_file)    \n",
    "\n",
    "log_file.seek(0)\n",
    "log_text = log_file.read()\n",
    "\n",
    "logger(log_file)    \n",
    "\n",
    "log_file.seek(0)\n",
    "log_text = log_file.read()"
   ]
  },
  {
   "cell_type": "code",
   "execution_count": 7,
   "metadata": {},
   "outputs": [],
   "source": [
    "# [ ] review and run example - create a file with initial count of 0\n",
    "count_file = open(\"count_file.txt\", \"w+\")"
   ]
  },
  {
   "cell_type": "code",
   "execution_count": 8,
   "metadata": {},
   "outputs": [
    {
     "name": "stdout",
     "output_type": "stream",
     "text": [
      "Count is: 0\n"
     ]
    }
   ],
   "source": [
    "count_file.write(\"Count is: 0\")\n",
    "count_file.seek(0)\n",
    "print(count_file.readline().strip())\n"
   ]
  },
  {
   "cell_type": "code",
   "execution_count": 10,
   "metadata": {},
   "outputs": [],
   "source": [
    "count_file.close()"
   ]
  },
  {
   "cell_type": "code",
   "execution_count": 1,
   "metadata": {},
   "outputs": [],
   "source": [
    "# [ ] review and run example - can rerun this cell\n",
    "count_file = open(\"count_file.txt\", \"r+\")"
   ]
  },
  {
   "cell_type": "code",
   "execution_count": 2,
   "metadata": {},
   "outputs": [
    {
     "name": "stdout",
     "output_type": "stream",
     "text": [
      "BEFORE\n",
      "Count is: 0\n"
     ]
    }
   ],
   "source": [
    "count_file.seek(0)\n",
    "count_line = count_file.readline().strip()\n",
    "print(\"BEFORE\\n\" + count_line)"
   ]
  },
  {
   "cell_type": "code",
   "execution_count": 4,
   "metadata": {},
   "outputs": [],
   "source": [
    "# get the int character(s) after the colon and space, cast and increment\n",
    "count = int(count_line[10:])+1"
   ]
  },
  {
   "cell_type": "code",
   "execution_count": 5,
   "metadata": {},
   "outputs": [
    {
     "name": "stdout",
     "output_type": "stream",
     "text": [
      "\n",
      "AFTER\n",
      "Count is: 1\n"
     ]
    }
   ],
   "source": [
    "# write the incremented value to the file - overwrite before value\n",
    "count_file.seek(10)\n",
    "count_file.write(str(count))\n",
    "count_file.seek(0)\n",
    "print(\"\\nAFTER\\n\" + count_file.readline().strip())"
   ]
  },
  {
   "cell_type": "code",
   "execution_count": 6,
   "metadata": {},
   "outputs": [],
   "source": [
    "count_file.close()"
   ]
  },
  {
   "cell_type": "code",
   "execution_count": 7,
   "metadata": {},
   "outputs": [],
   "source": [
    "def inc_count(cnt_file):\n",
    "    cnt_file.seek(0,0)\n",
    "    cnt_line = cnt_file.readline().strip()\n",
    "    cnt = int(cnt_line[10:])+1\n",
    "    cnt_file.seek(10,0)\n",
    "    cnt_file.write(str(cnt))\n",
    "    return cnt"
   ]
  },
  {
   "cell_type": "code",
   "execution_count": 8,
   "metadata": {},
   "outputs": [],
   "source": [
    "count_file = open(\"count_file.txt\", \"r+\")"
   ]
  },
  {
   "cell_type": "code",
   "execution_count": 9,
   "metadata": {},
   "outputs": [
    {
     "name": "stdout",
     "output_type": "stream",
     "text": [
      "BEFORE\n",
      "Count is: 1\n"
     ]
    }
   ],
   "source": [
    "count_file.seek(0)\n",
    "count_line = count_file.readline().strip()\n",
    "print(\"BEFORE\\n\" + count_line)"
   ]
  },
  {
   "cell_type": "code",
   "execution_count": 12,
   "metadata": {},
   "outputs": [
    {
     "name": "stdout",
     "output_type": "stream",
     "text": [
      "\n",
      "AFTER inc_count() call 1 \n",
      "Count is: 12\n",
      "\n",
      "AFTER inc_count() call 2 \n",
      "Count is: 13\n",
      "\n",
      "AFTER inc_count() call 3 \n",
      "Count is: 14\n",
      "\n",
      "AFTER inc_count() call 4 \n",
      "Count is: 15\n",
      "\n",
      "AFTER inc_count() call 5 \n",
      "Count is: 16\n"
     ]
    }
   ],
   "source": [
    "for i in range(5):\n",
    "    count = inc_count(count_file)\n",
    "    count_file.seek(0)\n",
    "    print(\"\\nAFTER inc_count() call\", i+1, \"\\n\" + count_file.readline().strip())"
   ]
  },
  {
   "cell_type": "code",
   "execution_count": 13,
   "metadata": {},
   "outputs": [
    {
     "name": "stdout",
     "output_type": "stream",
     "text": [
      "16\n"
     ]
    }
   ],
   "source": [
    "print(count)"
   ]
  },
  {
   "cell_type": "markdown",
   "metadata": {},
   "source": [
    "# Task 4"
   ]
  },
  {
   "cell_type": "code",
   "execution_count": 13,
   "metadata": {},
   "outputs": [
    {
     "name": "stdout",
     "output_type": "stream",
     "text": [
      "Line1\n",
      "Line2\n",
      "Line3\n",
      " \n",
      "\n",
      "Line1\n",
      "Line2\n",
      "Line3\n",
      "append #0\n",
      "append #1\n",
      "append #2\n",
      "append #3\n",
      "append #4\n",
      "\n"
     ]
    }
   ],
   "source": [
    "#append\n",
    "#Open task4_file.txt in append plus mode (\"a+\")\n",
    "#create a for item in range(5): loop, for each loop:\n",
    "#write to the file: \"append #\"+ str(item)+\"\\n\"\n",
    "#use seek() to set the pointer to the beginning of the file\n",
    "#print the file contents using file .read() method after exiting the loop\n",
    "#in append mode the file should only write to the end of the file regardless of setting seek() location\n",
    "\n",
    "file = open('task4_file', 'w+')\n",
    "\n",
    "for item in range(5):\n",
    "    file.write(\"Line1\\nLine2\\nLine3\\n\")\n",
    "    file.seek(0)\n",
    "task_file = file.read()\n",
    "print(task_file, \"\\n\")\n",
    "file.close()\n",
    "file = open('task4_file', 'a+') \n",
    "for item in range(5):\n",
    "    file.write(\"append #\"+ str(item)+\"\\n\")\n",
    "    file.seek(0)\n",
    "task_file = file.read()\n",
    "print(task_file)\n",
    "    "
   ]
  },
  {
   "cell_type": "markdown",
   "metadata": {},
   "source": [
    "# Task 5"
   ]
  },
  {
   "cell_type": "code",
   "execution_count": 21,
   "metadata": {},
   "outputs": [
    {
     "name": "stdout",
     "output_type": "stream",
     "text": [
      "Before:\n",
      "Line---1\n",
      "Line---2\n",
      "Line---3\n",
      "Line---4\n",
      "Line---5\n",
      "Line---6\n",
      "Line---7\n",
      "Line---8\n",
      "Line---9\n",
      "Line--10\n",
      "\n",
      "\n",
      "After: \n",
      " Line---1\n",
      "Line---2append#1\n",
      "\n",
      "Line--append#2\n",
      "-5\n",
      "Lineappend#3\n",
      "---7\n",
      "Liappend#4\n",
      "ne---9\n",
      "Line--10\n",
      "\n"
     ]
    }
   ],
   "source": [
    "#read plus (r+) mode\n",
    "#read the provided code and complete the code as follows:\n",
    "\n",
    "#Run the provided code below to create/open, print and close task5_file.txt\n",
    "#Open task5_file.txt in append plus mode (\"r+\")\n",
    "#create a   for item in range(1,5): loop, then, during each loop:\n",
    "#write to the file: \"append#\" + str(item)+ \"\\n\"\n",
    "#use .seek(item*18) to set the pointer to 18x's the loop count\n",
    "#Note: starting the first loop, item is 1 if using range(1,5), seek will be set to 18, 36, 54, 72\n",
    "#print the file contents using file .read() method after exiting the loop\n",
    "#\"r+\" mode will write wherever the pointer is set - such as after a read or from using .seek()\n",
    "\n",
    "\n",
    "task5_file = open('task5_file.txt', 'w+')\n",
    "task5_file.write(\"Line---1\\nLine---2\\nLine---3\\nLine---4\\nLine---5\\nLine---6\\nLine---7\\nLine---8\\nLine---9\\nLine--10\\n\")\n",
    "task5_file.seek(0)\n",
    "print(\"Before:\\n\"+ task5_file.read()+\"\\n\")\n",
    "task5_file.close()\n",
    "task5_file = open('task5_file.txt', 'r+')\n",
    "for item in range(1,5):\n",
    "    task5_file.seek(item*18)\n",
    "    task5_file.write(\"append#\" + str(item)+ \"\\n\")\n",
    "task5_file.seek(0)\n",
    "task = task5_file.read()\n",
    "print(\"After:\",\"\\n\",task)\n",
    "    \n",
    "\n",
    "\n",
    "\n"
   ]
  },
  {
   "cell_type": "code",
   "execution_count": null,
   "metadata": {},
   "outputs": [],
   "source": []
  },
  {
   "cell_type": "code",
   "execution_count": null,
   "metadata": {},
   "outputs": [],
   "source": []
  },
  {
   "cell_type": "code",
   "execution_count": null,
   "metadata": {},
   "outputs": [],
   "source": []
  },
  {
   "cell_type": "code",
   "execution_count": null,
   "metadata": {},
   "outputs": [],
   "source": []
  },
  {
   "cell_type": "code",
   "execution_count": null,
   "metadata": {},
   "outputs": [],
   "source": []
  }
 ],
 "metadata": {
  "kernelspec": {
   "display_name": "Python 3",
   "language": "python",
   "name": "python3"
  },
  "language_info": {
   "codemirror_mode": {
    "name": "ipython",
    "version": 3
   },
   "file_extension": ".py",
   "mimetype": "text/x-python",
   "name": "python",
   "nbconvert_exporter": "python",
   "pygments_lexer": "ipython3",
   "version": "3.7.4"
  }
 },
 "nbformat": 4,
 "nbformat_minor": 2
}
