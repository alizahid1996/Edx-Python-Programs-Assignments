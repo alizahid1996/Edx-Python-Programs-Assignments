{
 "cells": [
  {
   "cell_type": "markdown",
   "metadata": {},
   "source": [
    "# Module 3 Practice"
   ]
  },
  {
   "cell_type": "code",
   "execution_count": 1,
   "metadata": {},
   "outputs": [
    {
     "name": "stdout",
     "output_type": "stream",
     "text": [
      "or BRUSHED thy not Little thou me? SUMMER’S thee? like THOUGHTLESS play i a not hand a my? fly am man\n"
     ]
    }
   ],
   "source": [
    "input_sentence = \"Little fly, Thy summer’s play My? thoughtless hand Has brushed away.\\\n",
    "    Am not I A fly like thee? Or art not thou A man like Me?\"\n",
    "\n",
    "short_word = 3\n",
    "long_word = 7\n",
    "#words_list = input(\"enter a saying or poem: \").split()\n",
    "words_list = input_sentence.split()\n",
    "\n",
    "# print(words_list)\n",
    "\n",
    "\n",
    "def symbol_convert(word, method):\n",
    "    \"\"\"\n",
    "    word - word to convert\n",
    "    method - .lower() or .upper()\n",
    "    \"\"\"\n",
    "#    \n",
    "#        method = \"upper()\"\n",
    "    if word.isalpha():\n",
    "        if method == \"upper\":\n",
    "            return word.upper()\n",
    "        else:\n",
    "            return word.lower()\n",
    "    else:\n",
    "        # deal with word that is a combination of the letters and other symbols (?,.! and so on)\n",
    "        word_tmp = \"\"\n",
    "        for symbol in word:\n",
    "            if symbol.isalpha():\n",
    "                if method == \"upper\":\n",
    "                    word_tmp += symbol.upper()\n",
    "                else:\n",
    "                    word_tmp += symbol.lower()\n",
    "            else:\n",
    "                word_tmp += symbol\n",
    "        return word_tmp\n",
    "\n",
    "    \n",
    "def word_mixer(modified_list):\n",
    "    modified_list.sort()\n",
    "    new_words = []\n",
    "    while len(modified_list) > 5:\n",
    "        new_words.append(modified_list.pop(-5))\n",
    "        new_words.append(modified_list.pop(0))\n",
    "        new_words.append(modified_list.pop())\n",
    "    return new_words\n",
    "\n",
    "\n",
    "mod_list = []\n",
    "\n",
    "for word_index in range(len(words_list)):\n",
    "    \"\"\"\n",
    "    TODO:\n",
    "    1) Rewrite program to count only letters and the symbols inside the word.\n",
    "    All the symbols at the end should be discarded\n",
    "    \"\"\"\n",
    "\n",
    "    if len(words_list[word_index]) <= short_word:\n",
    "        mod_list.append(symbol_convert(words_list[word_index], \"lower\"))\n",
    "    elif len(words_list[word_index]) >= long_word:\n",
    "        mod_list.append(symbol_convert(words_list[word_index], \"upper\"))\n",
    "    else:\n",
    "        mod_list.append(words_list[word_index])\n",
    "\n",
    "#print(mod_list)\n",
    "#print(word_mixer(mod_list))\n",
    "\n",
    "print(\" \".join(word_mixer(mod_list)))"
   ]
  },
  {
   "cell_type": "markdown",
   "metadata": {},
   "source": [
    "# Task 1"
   ]
  },
  {
   "cell_type": "code",
   "execution_count": null,
   "metadata": {},
   "outputs": [],
   "source": [
    "# [ ] print out the \"physical states of matter\" (matter_states) in 4 sentences using list iteration\n",
    "# each sentence should be of the format: \"Solid - is state of matter #1\" \n",
    "matter_states = ['solid', 'liquid', 'gas', 'plasma']\n",
    "for i in range(len(matter_states)):\n",
    "    print(matter_states[i].title(),\"- is state of matter #\"+str(i+1))\n",
    "   \n",
    "    "
   ]
  },
  {
   "cell_type": "code",
   "execution_count": 10,
   "metadata": {},
   "outputs": [
    {
     "name": "stdout",
     "output_type": "stream",
     "text": [
      "Before Removal: \n",
      "['turkey', 'hawk', 'chicken', 'dove', 'crow']\n",
      "After removal:  \n",
      "['turkey', 'hawk', 'dove']\n"
     ]
    }
   ],
   "source": [
    "# [ ] iterate the list (birds) to see any bird names start with \"c\" and remove that item from the list\n",
    "# print the birds list before and after removals\n",
    "\n",
    "birds = [\"turkey\", \"hawk\", \"chicken\", \"dove\", \"crow\"]\n",
    "print(\"Before Removal:\",\"\\n\" +str(birds))\n",
    "\n",
    "for bird in birds:\n",
    "    if bird[0].lower() == \"c\":\n",
    "        birds.remove(bird)\n",
    "print(\"After removal: \",\"\\n\"+str(birds))\n",
    "\n",
    "\n"
   ]
  },
  {
   "cell_type": "code",
   "execution_count": 20,
   "metadata": {},
   "outputs": [
    {
     "name": "stdout",
     "output_type": "stream",
     "text": [
      "4\n",
      "8\n",
      "3\n",
      "range(1, 4)\n",
      "range(1, 4)\n",
      "range(1, 4)\n",
      "Total:29\n"
     ]
    }
   ],
   "source": [
    "# the team makes 1pt, 2pt or 3pt baskets\n",
    "# [ ] print the occurrence of each type of basket(1pt, 2pt, 3pt) & total points using the list baskets\n",
    "baskets = [2,2,2,1,2,1,3,3,1,2,2,2,2,1,3]\n",
    "\n",
    "print(baskets.count(1))\n",
    "print(baskets.count(2))\n",
    "print(baskets.count(3))\n",
    "\n",
    "\n",
    "total_points = 0\n",
    "for i in baskets:\n",
    "    total_points += i\n",
    "print(\"Total:\" +str(total_points))\n",
    "    \n",
    "\n",
    "\n"
   ]
  },
  {
   "cell_type": "markdown",
   "metadata": {},
   "source": [
    "# Task 2"
   ]
  },
  {
   "cell_type": "code",
   "execution_count": 22,
   "metadata": {},
   "outputs": [
    {
     "name": "stdout",
     "output_type": "stream",
     "text": [
      "Hello\n",
      "Hello\n",
      "Hello\n",
      "Hello\n"
     ]
    }
   ],
   "source": [
    "# [ ] using range() print \"hello\" 4 times\n",
    "for i in range(4):\n",
    "    print(\"Hello\")"
   ]
  },
  {
   "cell_type": "code",
   "execution_count": 36,
   "metadata": {},
   "outputs": [
    {
     "name": "stdout",
     "output_type": "stream",
     "text": [
      "First Half:\n",
      "Tuesday\n",
      "Wednesday\n",
      "February\n",
      "\n",
      "Second Half:\n",
      "November\n",
      "Annual\n",
      "Calendar\n",
      "Solstice\n"
     ]
    }
   ],
   "source": [
    "# [ ] find spell_list length\n",
    "# [ ] use range() to iterate each half of spell_list  \n",
    "# [ ] label & print the first and second halves\n",
    "\n",
    "spell_list = [\"Tuesday\", \"Wednesday\", \"February\", \"November\", \"Annual\", \"Calendar\", \"Solstice\"]\n",
    "half = int(len(spell_list)/2)\n",
    "print(\"First Half:\")\n",
    "for i in range(0,half):\n",
    "    print(spell_list[i])\n",
    "print(\"\\n\"+\"Second Half:\")\n",
    "for i in range(half,len(spell_list),):\n",
    "    print(spell_list[i])\n",
    "    "
   ]
  },
  {
   "cell_type": "code",
   "execution_count": 37,
   "metadata": {},
   "outputs": [
    {
     "name": "stdout",
     "output_type": "stream",
     "text": [
      "[20, 21, 22, 23, 24, 25, 26, 27, 28, 29]\n"
     ]
    }
   ],
   "source": [
    "# [ ] build a list of numbers from 20 to 29: twenties \n",
    "# append each number to twenties list using range(start,stop) iteration\n",
    "# [ ] print twenties\n",
    "\n",
    "twenties = []\n",
    "for i in range(20,30):\n",
    "    twenties.append(i)\n",
    "print(twenties)"
   ]
  },
  {
   "cell_type": "code",
   "execution_count": 42,
   "metadata": {},
   "outputs": [
    {
     "name": "stdout",
     "output_type": "stream",
     "text": [
      "245\n"
     ]
    }
   ],
   "source": [
    "# [ ] iterate through the numbers populated in the list twenties and add each number to a variable: total\n",
    "# [ ] print total\n",
    "tota = 0\n",
    "for num in twenties:\n",
    "    total += num\n",
    "print(total)\n",
    "    "
   ]
  },
  {
   "cell_type": "code",
   "execution_count": 43,
   "metadata": {},
   "outputs": [
    {
     "name": "stdout",
     "output_type": "stream",
     "text": [
      "245\n"
     ]
    }
   ],
   "source": [
    "# check your answer above using range(start,stop)\n",
    "# [ ] iterate each number from 20 to 29 using range()\n",
    "# [ ] add each number to a variable (total) to calculate the sum\n",
    "# should match earlier task \n",
    "total = 0\n",
    "for i in range(20,30):\n",
    "    total += i\n",
    "print(total)"
   ]
  },
  {
   "cell_type": "markdown",
   "metadata": {},
   "source": [
    "# Task 3"
   ]
  },
  {
   "cell_type": "code",
   "execution_count": 45,
   "metadata": {},
   "outputs": [
    {
     "name": "stdout",
     "output_type": "stream",
     "text": [
      "[1, 3, 5, 7, 9, 11, 13, 15, 17, 19, 21, 23, 25]\n"
     ]
    }
   ],
   "source": [
    "# iteration with range(start:stop:skip)\n",
    "# [ ] create a list of odd numbers (odd_nums) from 1 to 25 using range(start,stop,skip)\n",
    "# [ ] print odd_nums\n",
    "# hint: odd numbers are 2 digits apart\n",
    "\n",
    "a = []\n",
    "for num in range(1,26,2):\n",
    "    a.append(num)\n",
    "print(a)\n",
    "    \n"
   ]
  },
  {
   "cell_type": "code",
   "execution_count": 10,
   "metadata": {},
   "outputs": [
    {
     "name": "stdout",
     "output_type": "stream",
     "text": [
      "[25, 23, 21, 19, 17, 15, 13, 11, 9, 7, 5, 3, 1]\n"
     ]
    }
   ],
   "source": [
    "# [ ] create a Decending list of odd numbers (odd_nums) from 25 to 1 using range(start,stop,skip)\n",
    "# [ ] print odd_nums,  output should resemble [25, 23, ...]\n",
    "\n",
    "odd_nums = []\n",
    "for num in range(25,0,-2):\n",
    "    odd_nums.append(num)\n",
    "    \n",
    "print(odd_nums)\n",
    "    "
   ]
  },
  {
   "cell_type": "code",
   "execution_count": 14,
   "metadata": {},
   "outputs": [
    {
     "name": "stdout",
     "output_type": "stream",
     "text": [
      "2 - Helium\n",
      "4 - Beryllium\n",
      "6 - Carbon\n",
      "8 - Oxygen\n",
      "10 - Neon\n",
      "12 - Magnesium\n",
      "14 - Silicon\n",
      "16 - Sulfur\n",
      "18 - Argon\n",
      "20 - Calcium\n"
     ]
    }
   ],
   "source": [
    "# the list, elements, contains the names of the first 20 elements in atomic number order\n",
    "# [ ] print the even number elements \"2 - Helium, 4 - Beryllium,..\" in the list with the atomic number\n",
    "elements = ['Hydrogen', 'Helium', 'Lithium', 'Beryllium', 'Boron', 'Carbon', 'Nitrogen', 'Oxygen', 'Fluorine', \\\n",
    " 'Neon', 'Sodium', 'Magnesium', 'Aluminum', 'Silicon', 'Phosphorus', 'Sulfur', 'Chlorine', 'Argon', \\\n",
    " 'Potassium', 'Calcium']\n",
    "\n",
    "for element in range(1,len(elements),2):\n",
    "    print(element+1,\"-\",elements[element])\n",
    "\n",
    "\n"
   ]
  },
  {
   "cell_type": "code",
   "execution_count": null,
   "metadata": {},
   "outputs": [],
   "source": [
    "# [ ] the list, elements_40, contains the names of the first 40 elements in atomic number order\n",
    "# [ ] print the odd number elements \"1 - Hydrogen, 3 - Lithium,..\" in the list with the atomic number elements_40\n",
    "\n",
    "elements_40 = ['Hydrogen', \\\n",
    " 'Helium', 'Lithium', 'Beryllium', 'Boron', 'Carbon', 'Nitrogen', 'Oxygen', 'Fluorine', \\\n",
    " 'Neon', 'Sodium', 'Magnesium', 'Aluminum', 'Silicon', 'Phosphorus', 'Sulfur', 'Chlorine', \\\n",
    " 'Argon', 'Potassium', 'Calcium', 'Scandium', 'Titanium', 'Vanadium', 'Chromium', 'Manganese', \\\n",
    " 'Iron', 'Cobalt', 'Nickel', 'Copper', 'Zinc', 'Gallium', 'Germanium', 'Arsenic', 'Selenium', \\\n",
    " 'Bromine', 'Krypton', 'Rubidium', 'Strontium', 'Yttrium', 'Zirconium']\n",
    "\n",
    "for element in range(0,len(elements_40),2):\n",
    "    print(element+1,\"-\",elements_40[element])"
   ]
  },
  {
   "cell_type": "markdown",
   "metadata": {},
   "source": [
    "# Task 4"
   ]
  },
  {
   "cell_type": "code",
   "execution_count": 22,
   "metadata": {},
   "outputs": [
    {
     "name": "stdout",
     "output_type": "stream",
     "text": [
      "numbers_1: [20, 21, 22, 23, 24, 25, 26, 27, 28, 29]\n",
      "numbers_2: [30, 32, 34, 36, 38, 40, 42, 44, 46, 48]\n",
      "Combined:  [20, 21, 22, 23, 24, 25, 26, 27, 28, 29, 30, 32, 34, 36, 38, 40, 42, 44, 46, 48]\n"
     ]
    }
   ],
   "source": [
    "# [ ] print the combined lists (numbers_1 & numbers_2) using \"+\" operator\n",
    "numbers_1 = [20, 21, 22, 23, 24, 25, 26, 27, 28, 29]\n",
    "numbers_2 = list(range(30,50,2))\n",
    "print(\"numbers_1:\",numbers_1)\n",
    "print(\"numbers_2:\",numbers_2)\n",
    "print(\"Combined: \",numbers_1 + numbers_2)\n",
    "\n"
   ]
  },
  {
   "cell_type": "code",
   "execution_count": 24,
   "metadata": {},
   "outputs": [
    {
     "name": "stdout",
     "output_type": "stream",
     "text": [
      "1st Row: ['Hydrogen', 'Helium']\n",
      "2nd Row: ['Lithium', 'Beryllium', 'Boron', 'Carbon', 'Nitrogen', 'Oxygen', 'Fluorine', 'Neon']\n",
      "['Hydrogen', 'Helium', 'Lithium', 'Beryllium', 'Boron', 'Carbon', 'Nitrogen', 'Oxygen', 'Fluorine', 'Neon']\n"
     ]
    }
   ],
   "source": [
    "# [ ] print the combined element lists (first_row & second_row) using \".extend()\" method\n",
    "first_row = ['Hydrogen', 'Helium']\n",
    "second_row = ['Lithium', 'Beryllium', 'Boron', 'Carbon', 'Nitrogen', 'Oxygen', 'Fluorine', 'Neon']\n",
    "print(\"1st Row:\", first_row)\n",
    "print(\"2nd Row:\", second_row)\n",
    "first_row.extend(second_row)\n",
    "print(first_row)"
   ]
  },
  {
   "cell_type": "markdown",
   "metadata": {},
   "source": [
    "# Project: Combine 3 element rows"
   ]
  },
  {
   "cell_type": "code",
   "execution_count": 33,
   "metadata": {},
   "outputs": [
    {
     "name": "stdout",
     "output_type": "stream",
     "text": [
      "Row 1: \n",
      "Hydrogen Helium \n",
      "\n",
      "Row 2: \n",
      "Lithium Beryllium Boron Carbon Nitrogen Oxygen Fluorine Neon \n",
      "\n",
      "Row 3: \n",
      "Sodium Magnesium Aluminum Silicon Phosphorus Sulfur Chlorine Argon "
     ]
    }
   ],
   "source": [
    "# Choose to use \"+\" or \".extend()\" to build output similar to\n",
    "\n",
    "# The 1st three rows of the Period Table of Elements contain:\n",
    "# \n",
    "\n",
    "# The row breakdown is\n",
    "# Row 1: Hydrogen, Helium\n",
    "# Row 2: Lithium, Beryllium, Boron, Carbon, Nitrogen, Oxygen, Fluorine, Neon\n",
    "# Row 3: Sodium, Magnesium, Aluminum, Silicon, Phosphorus, Sulfur, Chlorine, Argon\n",
    "# [ ] create the program: combined 3 element rows \n",
    "\n",
    "elements = ['Hydrogen', 'Helium', 'Lithium', 'Beryllium', 'Boron', 'Carbon', 'Nitrogen', 'Oxygen', 'Fluorine', 'Neon', 'Sodium', 'Magnesium', 'Aluminum', 'Silicon', 'Phosphorus', 'Sulfur', 'Chlorine', 'Argon']\n",
    "print(\"Row 1: \")\n",
    "for i in range(0,2):\n",
    "    row_1 = elements[i]\n",
    "    print(row_1,end=\" \")\n",
    "print(\"\\n\")\n",
    "print(\"Row 2: \")\n",
    "for i in range(2,10):\n",
    "    row_2 = elements[i]\n",
    "    print(row_2,end=\" \")\n",
    "print(\"\\n\")\n",
    "print(\"Row 3: \")\n",
    "for i in range(10,len(elements)):\n",
    "    row_3 = elements[i]\n",
    "    print(row_3,end=\" \")\n",
    "\n"
   ]
  },
  {
   "cell_type": "code",
   "execution_count": 35,
   "metadata": {},
   "outputs": [
    {
     "name": "stdout",
     "output_type": "stream",
     "text": [
      "['Jack', 'and', 'Jill', 'went', 'up', 'the', 'hill', 'To', 'fetch', 'a', 'pail', 'of', 'water']\n"
     ]
    }
   ],
   "source": [
    "# [ ] .extend() jack_jill with \"next_line\" string - print the result\n",
    "jack_jill = ['Jack', 'and', 'Jill', 'went', 'up', 'the', 'hill']\n",
    "next_line = ['To', 'fetch', 'a', 'pail', 'of', 'water']\n",
    "\n",
    "jack_jill.extend(next_line)\n",
    "print(jack_jill)"
   ]
  },
  {
   "cell_type": "markdown",
   "metadata": {},
   "source": [
    "# Task 5"
   ]
  },
  {
   "cell_type": "code",
   "execution_count": 37,
   "metadata": {},
   "outputs": [
    {
     "name": "stdout",
     "output_type": "stream",
     "text": [
      "['Calcium', 'Potassium', 'Argon', 'Chlorine', 'Sulfur', 'Phosphorus', 'Silicon', 'Aluminum', 'Magnesium', 'Sodium', 'Neon', 'Fluorine', 'Oxygen', 'Nitrogen', 'Carbon', 'Boron', 'Beryllium', 'Lithium', 'Helium', 'Hydrogen']\n"
     ]
    }
   ],
   "source": [
    "# .reverse() : reverse a list in place\n",
    "# [ ] use .reverse() to print elements starting with \"Calcium\", \"Chlorine\",... in reverse order\n",
    "elements = ['Hydrogen', 'Helium', 'Lithium', 'Beryllium', 'Boron', 'Carbon', 'Nitrogen', 'Oxygen', 'Fluorine', \\\n",
    " 'Neon', 'Sodium', 'Magnesium', 'Aluminum', 'Silicon', 'Phosphorus', 'Sulfur', 'Chlorine', 'Argon', \\\n",
    " 'Potassium', 'Calcium']\n",
    "\n",
    "elements.reverse()\n",
    "print(elements)"
   ]
  },
  {
   "cell_type": "code",
   "execution_count": 10,
   "metadata": {},
   "outputs": [
    {
     "name": "stdout",
     "output_type": "stream",
     "text": [
      "Solstice\n",
      "Calendar\n",
      "November\n",
      "February\n",
      "Wednesday\n"
     ]
    }
   ],
   "source": [
    "# [ ] reverse order of the list... Then print only words that are 8 characters or longer from the now reversed order\n",
    "\n",
    "spell_list = [\"Tuesday\", \"Wednesday\", \"February\", \"November\", \"Annual\", \"Calendar\", \"Solstice\"]\n",
    "rev = []\n",
    "spell_list.reverse()\n",
    "\n",
    "for i in spell_list:\n",
    "    if len(i) >= 8:\n",
    "        print(i)\n",
    "    \n",
    "\n",
    "\n"
   ]
  },
  {
   "cell_type": "markdown",
   "metadata": {},
   "source": [
    "# Task 6 : .sort() and sorted()"
   ]
  },
  {
   "cell_type": "code",
   "execution_count": 13,
   "metadata": {},
   "outputs": [
    {
     "name": "stdout",
     "output_type": "stream",
     "text": [
      "['Aluminum', 'Argon', 'Beryllium', 'Boron', 'Calcium', 'Carbon', 'Chlorine', 'Fluorine', 'Helium', 'Hydrogen', 'Lithium', 'Magnesium', 'Neon', 'Nitrogen', 'Oxygen', 'Phosphorus', 'Potassium', 'Silicon', 'Sodium', 'Sulfur']\n"
     ]
    }
   ],
   "source": [
    "# [ ] sort the list element, so names are in alphabetical order and print elements\n",
    "elements = ['Hydrogen', 'Helium', 'Lithium', 'Beryllium', 'Boron', 'Carbon', 'Nitrogen', 'Oxygen', 'Fluorine', \\\n",
    " 'Neon', 'Sodium', 'Magnesium', 'Aluminum', 'Silicon', 'Phosphorus', 'Sulfur', 'Chlorine', 'Argon', \\\n",
    " 'Potassium', 'Calcium']\n",
    "\n",
    "elements.sort()\n",
    "print(elements)"
   ]
  },
  {
   "cell_type": "code",
   "execution_count": 2,
   "metadata": {},
   "outputs": [
    {
     "name": "stdout",
     "output_type": "stream",
     "text": [
      "[1, 1, 1, 1, 2, 2, 2, 2, 2, 2, 2, 2, 3, 3, 3]\n",
      "[2, 2, 2, 1, 2, 1, 3, 3, 1, 2, 2, 2, 2, 1, 3]\n"
     ]
    }
   ],
   "source": [
    "# [ ] print the list, numbers, sorted and then below print the original numbers list \n",
    "numbers = [2,2,2,1,2,1,3,3,1,2,2,2,2,1,3]\n",
    "print(sorted(numbers))\n",
    "print(numbers)\n"
   ]
  },
  {
   "cell_type": "markdown",
   "metadata": {},
   "source": [
    "# Task 7"
   ]
  },
  {
   "cell_type": "code",
   "execution_count": 4,
   "metadata": {},
   "outputs": [
    {
     "name": "stdout",
     "output_type": "stream",
     "text": [
      "['Did', 'you', 'know', 'that', 'there', 'are', '1.4', 'billion', 'students', 'in', 'the', 'world?']\n",
      "Did\n",
      "You\n",
      "Know\n",
      "That\n",
      "There\n",
      "Are\n",
      "1.4\n",
      "Billion\n",
      "Students\n",
      "In\n",
      "The\n",
      "World?\n"
     ]
    }
   ],
   "source": [
    "# Converting a string to a list with .split()\n",
    "# [ ] split the string, daily_fact, into a list of word strings: fact_words\n",
    "# [ ] print each string in fact_words in upper case on it's own line\n",
    "daily_fact = \"Did you know that there are 1.4 billion students in the world?\"\n",
    "fact_words = daily_fact.split()\n",
    "print(fact_words)\n",
    "for i in fact_words:\n",
    "    print(i.title())\n",
    "\n",
    "\n",
    "\n"
   ]
  },
  {
   "cell_type": "code",
   "execution_count": 12,
   "metadata": {},
   "outputs": [
    {
     "name": "stdout",
     "output_type": "stream",
     "text": [
      "['Read c', 'de al', 'ud ', 'r explain the c', 'de step by step t', ' a peer']\n"
     ]
    }
   ],
   "source": [
    "# [ ] convert the string, code_tip, into a list made from splitting on the letter \"o\"\n",
    "code_tip =\"Read code aloud or explain the code step by step to a peer\"\n",
    "a = code_tip.split('o')\n",
    "print(a)\n"
   ]
  },
  {
   "cell_type": "code",
   "execution_count": 16,
   "metadata": {},
   "outputs": [
    {
     "name": "stdout",
     "output_type": "stream",
     "text": [
      "The \n",
      "right \n",
      "rain, has \n",
      "ran!\n"
     ]
    }
   ],
   "source": [
    "# [ ] split poem on \"b\" to create a list: poem_words\n",
    "# [ ] print poem_words by iterating the list\n",
    "poem = \"The bright brain, has bran!\"\n",
    "poem_words = poem.split('b')\n",
    "for i in poem_words:\n",
    "    print(i)"
   ]
  },
  {
   "cell_type": "markdown",
   "metadata": {},
   "source": [
    "# Task 8"
   ]
  },
  {
   "cell_type": "code",
   "execution_count": 19,
   "metadata": {},
   "outputs": [
    {
     "data": {
      "text/plain": [
       "'Chlorine, Florine, Bromine, Iodine'"
      ]
     },
     "execution_count": 19,
     "metadata": {},
     "output_type": "execute_result"
    }
   ],
   "source": [
    "# .join()\n",
    "# build a string from a list\n",
    "# [ ] print a comma separated string output from the list of Halogen elements using \".join()\"\n",
    "halogens = ['Chlorine', 'Florine', 'Bromine', 'Iodine']\n",
    "', '.join(halogens)"
   ]
  },
  {
   "cell_type": "code",
   "execution_count": 37,
   "metadata": {},
   "outputs": [
    {
     "name": "stdout",
     "output_type": "stream",
     "text": [
      "ReadCodeAloudOrExplainTheCodeStepByStepToAPeer\n"
     ]
    }
   ],
   "source": [
    "# [ ] split the sentence, code_tip, into a words list\n",
    "# [ ] print the joined words in the list with no spaces in-between\n",
    "# [ ] Bonus: capitalize each word in the list before .join()\n",
    "\n",
    "code_tip =\"Read code aloud or explain the code step by step to a peer\"\n",
    "tip_words = code_tip.split()\n",
    "words_capitalized = []\n",
    "for word in tip_words:\n",
    "    words_capitalized.append(word.capitalize())\n",
    "\n",
    "print(\"\".join(words_capitalized))\n"
   ]
  },
  {
   "cell_type": "code",
   "execution_count": 39,
   "metadata": {},
   "outputs": [
    {
     "name": "stdout",
     "output_type": "stream",
     "text": [
      "['d', 'e', 'c', 'e', 'l', 'e', 'r', 'a', 't', 'i', 'n', 'g']\n",
      "d\n",
      "e\n",
      "c\n",
      "e\n",
      "l\n",
      "e\n",
      "r\n",
      "a\n",
      "t\n",
      "i\n",
      "n\n",
      "g\n"
     ]
    }
   ],
   "source": [
    "# list(string) & print(\"hello\",end=' ')\n",
    "# Cast a string to a list\n",
    "# print to the same line\n",
    "# [ ] cast the long_word into individual letters list \n",
    "# [ ] print each letter on a line\n",
    "\n",
    "long_word = 'decelerating'\n",
    "print(list(long_word))\n",
    "for letter in long_word:\n",
    "    print(letter)"
   ]
  },
  {
   "cell_type": "code",
   "execution_count": 42,
   "metadata": {},
   "outputs": [
    {
     "name": "stdout",
     "output_type": "stream",
     "text": [
      "What's the closest planet to the Sun?\n",
      "How deep do Dolphins swim?\n",
      "What time is it?\n"
     ]
    }
   ],
   "source": [
    "# [ ] use use end= in print to output each string in questions with a \"?\" and on new lines\n",
    "\n",
    "questions = [\"What's the closest planet to the Sun\", \"How deep do Dolphins swim\", \"What time is it\"]\n",
    "for question in questions:\n",
    "    print(question, end=\"?\\n\")\n",
    "\n",
    "\n"
   ]
  },
  {
   "cell_type": "code",
   "execution_count": 3,
   "metadata": {},
   "outputs": [
    {
     "name": "stdout",
     "output_type": "stream",
     "text": [
      "Calcaneus,\n",
      "Talus,\n",
      "Cuboid,\n",
      "Navicular,\n",
      "Lateral Cuneiform,\n",
      "Intermediate Cuneiform,\n",
      "Medial Cuneiform,\n"
     ]
    }
   ],
   "source": [
    "# [ ] print each item in foot bones \n",
    "#    - capitalized, both words if two word name\n",
    "#    - separated by a comma and space\n",
    "#    - and keeping on a single print line\n",
    "foot_bones = [\"calcaneus\", \"talus\", \"cuboid\", \"navicular\", \"lateral cuneiform\", \n",
    "            \"intermediate cuneiform\", \"medial cuneiform\"]\n",
    "for bone in foot_bones:\n",
    "    print(bone.title() +\",\")\n",
    "    "
   ]
  }
 ],
 "metadata": {
  "kernelspec": {
   "display_name": "Python 3",
   "language": "python",
   "name": "python3"
  },
  "language_info": {
   "codemirror_mode": {
    "name": "ipython",
    "version": 3
   },
   "file_extension": ".py",
   "mimetype": "text/x-python",
   "name": "python",
   "nbconvert_exporter": "python",
   "pygments_lexer": "ipython3",
   "version": "3.7.4"
  }
 },
 "nbformat": 4,
 "nbformat_minor": 2
}
