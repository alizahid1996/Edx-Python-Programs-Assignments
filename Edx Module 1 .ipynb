{
 "cells": [
  {
   "cell_type": "code",
   "execution_count": 1,
   "metadata": {},
   "outputs": [],
   "source": [
    "work_tip = \"good code is commented code\""
   ]
  },
  {
   "cell_type": "code",
   "execution_count": 2,
   "metadata": {},
   "outputs": [
    {
     "data": {
      "text/plain": [
       "27"
      ]
     },
     "execution_count": 2,
     "metadata": {},
     "output_type": "execute_result"
    }
   ],
   "source": [
    "len(work_tip)"
   ]
  },
  {
   "cell_type": "code",
   "execution_count": 7,
   "metadata": {},
   "outputs": [
    {
     "name": "stdout",
     "output_type": "stream",
     "text": [
      "find the index of the first space\n",
      "4\n"
     ]
    }
   ],
   "source": [
    "print(\"find the index of the first space\")\n",
    "print(work_tip.find(\" \"))"
   ]
  },
  {
   "cell_type": "code",
   "execution_count": 9,
   "metadata": {},
   "outputs": [
    {
     "name": "stdout",
     "output_type": "stream",
     "text": [
      "Enter a character to be found: o\n",
      "Match found at index  1\n"
     ]
    }
   ],
   "source": [
    "work_tip = \"good code is commented code\"\n",
    "to_be_found = input(\"Enter a character to be found: \")\n",
    "\n",
    "find = work_tip.find(to_be_found)\n",
    "\n",
    "\n",
    "while find == True:\n",
    "    print(\"Match found at index \",find)\n",
    "    find += 2\n",
    "    \n",
    "    \n",
    "\n",
    "\n"
   ]
  },
  {
   "cell_type": "code",
   "execution_count": null,
   "metadata": {},
   "outputs": [],
   "source": []
  },
  {
   "cell_type": "code",
   "execution_count": 1,
   "metadata": {},
   "outputs": [
    {
     "name": "stdout",
     "output_type": "stream",
     "text": [
      "hello world\n"
     ]
    }
   ],
   "source": [
    "print(\"hello world\")"
   ]
  },
  {
   "cell_type": "code",
   "execution_count": 6,
   "metadata": {},
   "outputs": [
    {
     "name": "stdout",
     "output_type": "stream",
     "text": [
      "find the index of \"u\" searching a slice work_tip[3:9] - good code is commented code\n",
      "1 \n",
      "\n"
     ]
    }
   ],
   "source": [
    "print('find the index of \"u\" searching a slice work_tip[3:9] -', work_tip[0:])\n",
    "print(work_tip.find(\"o\",0,9),\"\\n\")"
   ]
  },
  {
   "cell_type": "code",
   "execution_count": 7,
   "metadata": {},
   "outputs": [
    {
     "name": "stdout",
     "output_type": "stream",
     "text": [
      "find the index of \"e\" searching a slice work_tip[4:] -  code is commented code\n",
      "8\n"
     ]
    }
   ],
   "source": [
    "print('find the index of \"e\" searching a slice work_tip[4:] -', work_tip[4:])\n",
    "print(work_tip.find(\"e\",4))"
   ]
  },
  {
   "cell_type": "code",
   "execution_count": 8,
   "metadata": {},
   "outputs": [
    {
     "name": "stdout",
     "output_type": "stream",
     "text": [
      "5 = starting index for \"code\"\n"
     ]
    }
   ],
   "source": [
    "# index where first instance of \"code\" starts\n",
    "code_here = work_tip.find(\"code\")\n",
    "print(code_here, '= starting index for \"code\"')"
   ]
  },
  {
   "cell_type": "code",
   "execution_count": 10,
   "metadata": {},
   "outputs": [
    {
     "name": "stdout",
     "output_type": "stream",
     "text": [
      "search for \"meaning\" in the sub-string:  meaningful variable \n",
      "\n",
      "\"meaning\" found in work_tip[13:33] sub-string search at index 14\n"
     ]
    }
   ],
   "source": [
    "work_tip = \"good code has meaningful variable names\"\n",
    "print('search for \"meaning\" in the sub-string:', work_tip[13:33],\"\\n\")\n",
    "meaning_here = work_tip.find(\"meaning\",13,33)\n",
    "print('\"meaning\" found in work_tip[13:33] sub-string search at index', meaning_here)"
   ]
  },
  {
   "cell_type": "code",
   "execution_count": 12,
   "metadata": {},
   "outputs": [
    {
     "name": "stdout",
     "output_type": "stream",
     "text": [
      "work_tip: good code has meaningful variable names\n",
      "1\n"
     ]
    }
   ],
   "source": [
    "# [ ] review and run example \n",
    "# if .find(\"o\") has No Match, -1 is returned\n",
    "print (\"work_tip:\" , work_tip)\n",
    "location = work_tip.find(\"o\")\n",
    "print(location)"
   ]
  },
  {
   "cell_type": "code",
   "execution_count": 23,
   "metadata": {},
   "outputs": [
    {
     "ename": "TypeError",
     "evalue": "unsupported operand type(s) for /: 'str' and 'int'",
     "output_type": "error",
     "traceback": [
      "\u001b[1;31m---------------------------------------------------------------------------\u001b[0m",
      "\u001b[1;31mTypeError\u001b[0m                                 Traceback (most recent call last)",
      "\u001b[1;32m<ipython-input-23-e3bd1140f56d>\u001b[0m in \u001b[0;36m<module>\u001b[1;34m\u001b[0m\n\u001b[0;32m      2\u001b[0m \u001b[1;31m# [ ] print the halves on separate lines\u001b[0m\u001b[1;33m\u001b[0m\u001b[1;33m\u001b[0m\u001b[1;33m\u001b[0m\u001b[0m\n\u001b[0;32m      3\u001b[0m \u001b[0mrandom_tip\u001b[0m \u001b[1;33m=\u001b[0m \u001b[1;34m\"wear a hat when it rains\"\u001b[0m\u001b[1;33m\u001b[0m\u001b[1;33m\u001b[0m\u001b[0m\n\u001b[1;32m----> 4\u001b[1;33m \u001b[0mmid_pt\u001b[0m \u001b[1;33m=\u001b[0m \u001b[0mint\u001b[0m\u001b[1;33m(\u001b[0m\u001b[0mlen\u001b[0m\u001b[1;33m(\u001b[0m\u001b[0mrandom_tip\u001b[0m\u001b[1;33m/\u001b[0m\u001b[1;36m2\u001b[0m\u001b[1;33m)\u001b[0m\u001b[1;33m)\u001b[0m\u001b[1;33m\u001b[0m\u001b[1;33m\u001b[0m\u001b[0m\n\u001b[0m\u001b[0;32m      5\u001b[0m \u001b[0mprint\u001b[0m\u001b[1;33m(\u001b[0m\u001b[0mrandom_tip\u001b[0m\u001b[1;33m[\u001b[0m\u001b[1;36m0\u001b[0m\u001b[1;33m:\u001b[0m\u001b[0mmid_pt\u001b[0m\u001b[1;33m]\u001b[0m\u001b[1;33m)\u001b[0m\u001b[1;33m\u001b[0m\u001b[1;33m\u001b[0m\u001b[0m\n\u001b[0;32m      6\u001b[0m \u001b[0mprint\u001b[0m\u001b[1;33m(\u001b[0m\u001b[0mrandom_tip\u001b[0m\u001b[1;33m[\u001b[0m\u001b[0mmid_pt\u001b[0m\u001b[1;33m:\u001b[0m\u001b[1;33m]\u001b[0m\u001b[1;33m)\u001b[0m\u001b[1;33m\u001b[0m\u001b[1;33m\u001b[0m\u001b[0m\n",
      "\u001b[1;31mTypeError\u001b[0m: unsupported operand type(s) for /: 'str' and 'int'"
     ]
    }
   ],
   "source": [
    "# [ ] use len() to find the midpoint of the string \n",
    "# [ ] print the halves on separate lines\n",
    "random_tip = \"wear a hat when it rains\"\n",
    "mid_pt = int(len(random_tip/2))\n",
    "print(random_tip[0:mid_pt])\n",
    "print(random_tip[mid_pt:])"
   ]
  },
  {
   "cell_type": "code",
   "execution_count": 29,
   "metadata": {},
   "outputs": [
    {
     "name": "stdout",
     "output_type": "stream",
     "text": [
      "wear a hat w\n",
      "hen it rains\n"
     ]
    }
   ],
   "source": [
    "# Task 1\n",
    "\n",
    "# [ ] review and run example\n",
    "# find the middle index\n",
    "random_tip = \"wear a hat when it rains\"\n",
    "mid_pt = int(len(random_tip)/2)\n",
    "\n",
    "# print 1st half of sentence\n",
    "print(random_tip[:mid_pt])\n",
    "\n",
    "# print the 2nd half of sentence\n",
    "print(random_tip[mid_pt:])"
   ]
  },
  {
   "cell_type": "code",
   "execution_count": 43,
   "metadata": {},
   "outputs": [
    {
     "name": "stdout",
     "output_type": "stream",
     "text": [
      "The letter 'a' occurs  4  times\n",
      "The letter 'e' occurs  2  times\n",
      "The letter 'a' occurs most\n"
     ]
    }
   ],
   "source": [
    "# Task 2\n",
    "\n",
    "# for letters: \"e\" and \"a\" in random_tip\n",
    "# [ ] print letter counts \n",
    "# [ ] BONUS: print which letter is most frequent\n",
    "random_tip = \"wear a hat when it rains\"\n",
    "print(\"The letter 'a' occurs \",random_tip.count(\"a\"),\" times\")\n",
    "print(\"The letter 'e' occurs \",random_tip.count(\"e\"),\" times\")\n",
    "if random_tip.count(\"a\") > random_tip.count(\"e\"):\n",
    "    print(\"The letter 'a' occurs most\")\n",
    "\n",
    "else:\n",
    "    print(\"The letter 'e' occurs most\")\n",
    "    \n",
    "    "
   ]
  },
  {
   "cell_type": "code",
   "execution_count": 17,
   "metadata": {},
   "outputs": [
    {
     "name": "stdout",
     "output_type": "stream",
     "text": [
      "Enter a character to be found: o\n",
      "Match found at index:  1\n",
      "Match found at index:  2\n",
      "Match found at index:  6\n",
      "Match found at index:  14\n",
      "Match found at index:  24\n",
      "-------------------------\n",
      "no more o's\n"
     ]
    }
   ],
   "source": [
    "work_tip = \"good code is commented code\"\n",
    "to_be_found = input(\"Enter a character to be found: \")\n",
    "\n",
    "find = work_tip.find(to_be_found)\n",
    "\n",
    "while find > 0:\n",
    "    print(\"Match found at index: \",find)\n",
    "    \n",
    "    find = work_tip.find(to_be_found, find + 1)\n",
    "print(\"-------------------------\")\n",
    "print(\"no more o's\")\n",
    "\n",
    "\n"
   ]
  },
  {
   "cell_type": "code",
   "execution_count": 25,
   "metadata": {},
   "outputs": [
    {
     "name": "stdout",
     "output_type": "stream",
     "text": [
      "iti\n",
      "\n"
     ]
    }
   ],
   "source": [
    "# Task 3\n",
    "\n",
    "# [ ] print long_word from the location of the first and second \"t\"\n",
    "long_word = \"juxtaposition\"\n",
    "location = long_word.find(\"i\")\n",
    "while location > 0:\n",
    "    i = location\n",
    "    location = long_word.find(\"i\",location+1)\n",
    "    j = location+1\n",
    "    print(long_word[i:j])\n",
    "    \n",
    "    \n",
    "    \n",
    "    \n",
    "\n",
    "    \n",
    "    \n"
   ]
  },
  {
   "cell_type": "code",
   "execution_count": 1,
   "metadata": {},
   "outputs": [
    {
     "name": "stdout",
     "output_type": "stream",
     "text": [
      "they\n",
      "stumble \n",
      "who \n",
      "run \n",
      "fast\n"
     ]
    }
   ],
   "source": [
    "# Task 4\n",
    "# Program: print each word in a quote\n",
    "# start = 0\n",
    "# space_index = quote.find(\" \")\n",
    "# while space_index != -1:\n",
    "    # code to print word (index slice start:space_index)\n",
    "    \n",
    "quote = \"they stumble who run fast\"\n",
    "start = 0\n",
    "space_index = quote.find(\" \")\n",
    "word = quote[start:space_index]\n",
    "while space_index != -1:\n",
    "    print(quote[start:space_index])\n",
    "    space_index = quote.find(\"stumble\")\n",
    "    print(quote[space_index:quote.find(\"who\")])\n",
    "    space_index = quote.find(\"who\")\n",
    "    print(quote[space_index:quote.find(\"run\")])\n",
    "    space_index = quote.find(\"run\")\n",
    "    print(quote[space_index:quote.find(\"fast\")])\n",
    "    space_index = quote.find(\"fast\")\n",
    "    print(quote[space_index:])\n",
    "    break\n",
    "    \n",
    "    \n",
    "    \n",
    "    \n",
    "    \n",
    "    \n"
   ]
  },
  {
   "cell_type": "markdown",
   "metadata": {},
   "source": [
    "# Module 1 Practice  "
   ]
  },
  {
   "cell_type": "code",
   "execution_count": 2,
   "metadata": {},
   "outputs": [
    {
     "name": "stdout",
     "output_type": "stream",
     "text": [
      "u\n"
     ]
    }
   ],
   "source": [
    "# [ ] access and print the second character from planet_name: \"u\"\n",
    "planet_name = \"Jupiter\"\n",
    "print(planet_name[1])"
   ]
  },
  {
   "cell_type": "code",
   "execution_count": 3,
   "metadata": {},
   "outputs": [
    {
     "name": "stdout",
     "output_type": "stream",
     "text": [
      "J\n"
     ]
    }
   ],
   "source": [
    "# [ ] access and print the first character from planet_name: \"J\"\n",
    "planet_name = \"Jupiter\"\n",
    "print(planet_name[0])"
   ]
  },
  {
   "cell_type": "code",
   "execution_count": 7,
   "metadata": {},
   "outputs": [
    {
     "name": "stdout",
     "output_type": "stream",
     "text": [
      "J r\n",
      "\n"
     ]
    }
   ],
   "source": [
    "# [ ] access and print the first and last characters from planet_name\n",
    "planet_name = \"Jupiter\"\n",
    "print(planet_name[0], planet_name[-1])\n"
   ]
  },
  {
   "cell_type": "code",
   "execution_count": 9,
   "metadata": {},
   "outputs": [
    {
     "name": "stdout",
     "output_type": "stream",
     "text": [
      "J\n"
     ]
    }
   ],
   "source": [
    "# [ ] using a negative index access and print the first character from planet_name: \"J\"\n",
    "planet_name = \"Jupiter\"\n",
    "print(planet_name[-7])\n",
    "\n"
   ]
  },
  {
   "cell_type": "code",
   "execution_count": 11,
   "metadata": {},
   "outputs": [
    {
     "name": "stdout",
     "output_type": "stream",
     "text": [
      "tune\n"
     ]
    }
   ],
   "source": [
    "# [ ] print planet_name sliced into the first 3 characters and remaining characters\n",
    "planet_name = \"Neptune\"\n",
    "print(planet_name[3:])\n",
    "\n"
   ]
  },
  {
   "cell_type": "code",
   "execution_count": 15,
   "metadata": {},
   "outputs": [
    {
     "name": "stdout",
     "output_type": "stream",
     "text": [
      "Python\n"
     ]
    }
   ],
   "source": [
    "# [ ] print 1st char and then every 3rd char of wise_words\n",
    "# use string slice with a step\n",
    "wise_words = 'Play it who opens'\n",
    "print(wise_words[0::3])"
   ]
  },
  {
   "cell_type": "code",
   "execution_count": 17,
   "metadata": {},
   "outputs": [
    {
     "name": "stdout",
     "output_type": "stream",
     "text": [
      "enutpeN\n"
     ]
    }
   ],
   "source": [
    "# [ ] print planet_name in reverse\n",
    "\n",
    "planet_name = \"Neptune\"\n",
    "print(planet_name[::-1])"
   ]
  },
  {
   "cell_type": "code",
   "execution_count": 19,
   "metadata": {},
   "outputs": [
    {
     "name": "stdout",
     "output_type": "stream",
     "text": [
      "Enter your fav food: apple\n",
      "a\n",
      "p\n",
      "p\n",
      "l\n",
      "e\n"
     ]
    }
   ],
   "source": [
    "# [ ] Get user input for 1 fav_food\n",
    "# [ ] iterate through letters in fav_food \n",
    "#    - print each letter on a new line\n",
    "\n",
    "fav_food = input(\"Enter your fav food: \")\n",
    "for i in fav_food:\n",
    "    print(i)"
   ]
  },
  {
   "cell_type": "code",
   "execution_count": 38,
   "metadata": {},
   "outputs": [
    {
     "name": "stdout",
     "output_type": "stream",
     "text": [
      "Good code is commented code\n",
      "Good code is commented code\n",
      "Good code is commented code\n",
      "Good code is commented code\n",
      "Good code is commented code\n",
      "Good code is commented code\n",
      "Good code is commented code\n",
      "Good code is commented code\n",
      "Good code is commented code\n",
      "Good code is commented code\n",
      "Good code is commented code\n",
      "Good code is commented code\n",
      "Good code is commented code\n",
      "Good code is commented code\n",
      "Good code is commented code\n",
      "Good code is commented code\n",
      "Good code is commented code\n",
      "Good code is commented code\n",
      "Good code is commented code\n",
      "Good code is commented code\n",
      "Good code is commented code\n",
      "Good code is commented code\n",
      "Good code is commented code\n",
      "Good code is commented code\n",
      "Good code is commented code\n",
      "Good code is commented code\n",
      "Good code is commented code\n"
     ]
    }
   ],
   "source": [
    "# [ ] iterate work_tip string concatenate each letter to variable: new_string \n",
    "# [ ] concatenate the letter or a \"-\" instead of a space \" \"\n",
    "# tip: concatenate string example: word = word + \"a\"\n",
    "work_tip = \"Good code is commented code\"\n",
    "new_string = \"\"\n",
    "new_string += work_tip\n",
    "for i in new_string:\n",
    "    print(new_string)"
   ]
  },
  {
   "cell_type": "code",
   "execution_count": 37,
   "metadata": {},
   "outputs": [
    {
     "name": "stdout",
     "output_type": "stream",
     "text": [
      "H\n",
      "i\n",
      "r\n",
      "o\n"
     ]
    }
   ],
   "source": [
    "# [ ] Print the first 4 letters of name on new line\n",
    "name = \"Hiroto\"\n",
    "for i in name[0:4]:\n",
    "    print(i)\n",
    "    \n",
    "    "
   ]
  },
  {
   "cell_type": "code",
   "execution_count": 1,
   "metadata": {},
   "outputs": [
    {
     "name": "stdout",
     "output_type": "stream",
     "text": [
      "Hrt\n"
     ]
    }
   ],
   "source": [
    "# [ ] Print every other letter from 2nd to last letter of name \n",
    "name = \"Hiroto\"\n",
    "print(name[::2])"
   ]
  },
  {
   "cell_type": "markdown",
   "metadata": {},
   "source": [
    "Task 4\n",
    "Program: Mystery Name\n",
    "get user input for first_name\n",
    "create an empty string variable: new_name\n",
    "iterate through letters in first_name Backwards\n",
    "add each letter to new_name as you iterate\n",
    "Replace the letter if \"e\", \"t\" or \"a\" with \"?\" (hint: if, elif, elif, else)\n",
    "print new_name"
   ]
  },
  {
   "cell_type": "code",
   "execution_count": 49,
   "metadata": {},
   "outputs": [
    {
     "name": "stdout",
     "output_type": "stream",
     "text": [
      "Enter first name: mota\n",
      "?\n",
      "?\n",
      "o\n",
      "m\n"
     ]
    }
   ],
   "source": [
    "first_name = input(\"Enter first name: \")\n",
    "new_name = \"\"\n",
    "for i in first_name[::-1]:\n",
    "    \n",
    "    new_name = i\n",
    "    if i == \"a\":\n",
    "        i = \"?\"\n",
    "        new_name = i\n",
    "        print(new_name)\n",
    "        \n",
    "    elif i == \"e\":    \n",
    "        i = \"?\"\n",
    "        new_name = i\n",
    "        print(new_name)\n",
    "        \n",
    "    elif i == \"t\":    \n",
    "        i = \"?\"\n",
    "        new_name = i\n",
    "        print(new_name)\n",
    "        \n",
    "    else:\n",
    "        print(new_name)"
   ]
  },
  {
   "cell_type": "code",
   "execution_count": 56,
   "metadata": {},
   "outputs": [
    {
     "name": "stdout",
     "output_type": "stream",
     "text": [
      "Enter any stringali zahid is here\n",
      "17\n"
     ]
    }
   ],
   "source": [
    "# [ ] find and display the length of the string: topic\n",
    "# topic = \".len() returns the length of a string\"\n",
    "topic = input(\"Enter any string\")\n",
    "i = len(topic)\n",
    "print(i)\n"
   ]
  },
  {
   "cell_type": "code",
   "execution_count": 62,
   "metadata": {},
   "outputs": [
    {
     "name": "stdout",
     "output_type": "stream",
     "text": [
      "ike a string, as an argument\n"
     ]
    }
   ],
   "source": [
    "# [ ] use len() to find and display the mid_pt (middle) index (+/- 1) of the string: topic\n",
    "# note: index values are whole numbers\n",
    "\n",
    "topic = \"len() can take a sequence, like a string, as an argument\"\n",
    "len(topic)\n",
    "mid_pt = int(len(topic)/2)\n",
    "print(topic[mid_pt:])\n",
    "\n",
    "\n",
    "\n"
   ]
  },
  {
   "cell_type": "code",
   "execution_count": 10,
   "metadata": {},
   "outputs": [
    {
     "name": "stdout",
     "output_type": "stream",
     "text": [
      "Index of code found at:  5\n"
     ]
    }
   ],
   "source": [
    "# [ ] print index where first instance of the word  \"code\" starts using .find()\n",
    "work_tip = \"Good code is commented code\"\n",
    "code_index = work_tip.find(\"code\")\n",
    "if code_index == -1:\n",
    "    print(\"Not found\")\n",
    "\n",
    "else:\n",
    "    print(\"Index of code found at: \", code_index)\n",
    "\n",
    "\n",
    "\n"
   ]
  },
  {
   "cell_type": "code",
   "execution_count": 13,
   "metadata": {},
   "outputs": [
    {
     "name": "stdout",
     "output_type": "stream",
     "text": [
      "Number of 'W' are: 0\n",
      "Number of 'O' are: 5\n",
      "Number of 'Code' are: 2\n"
     ]
    }
   ],
   "source": [
    "# Task 6\n",
    "# [ ] find and report (print) number of w's, o's + use of word \"code\"\n",
    "\n",
    "work_tip = \"Good code is commented code\"\n",
    "w = work_tip.count(\"w\")\n",
    "o = work_tip.count(\"o\")\n",
    "code = work_tip.count(\"code\")\n",
    "print(\"Number of 'W' are:\", w )\n",
    "print(\"Number of 'O' are:\", o )\n",
    "print(\"Number of 'Code' are:\", code )\n"
   ]
  },
  {
   "cell_type": "code",
   "execution_count": 59,
   "metadata": {},
   "outputs": [
    {
     "name": "stdout",
     "output_type": "stream",
     "text": [
      "11\n",
      "12\n",
      "22\n",
      "24\n",
      "33\n",
      "36\n"
     ]
    }
   ],
   "source": [
    "# [ ]  count times letter \"i\" appears in code_tip string\n",
    "# [ ] find and display the index of all the letter i's in code_tip\n",
    "# Remember: if .find(\"i\") has No Match, -1 is returned\n",
    "code_tip = \"code a conditional decision like you would say it\"\n",
    "code_tip.count(\"i\")\n",
    "a = code_tip.find(\"i\")\n",
    "print(a)\n",
    "b = code_tip[a-1:].find(\"i\")\n",
    "print(a+b)\n",
    "c = code_tip[b:].find(\"i\")\n",
    "print(a+b+c)\n",
    "d = code_tip[c-1:].find(\"i\")\n",
    "print(a+b+c+d)\n",
    "e = code_tip[d:].find(\"i\")\n",
    "print(a+b+c+d+e)\n",
    "f = code_tip[e-1:].find(\"i\")\n",
    "print(a+b+c+d+e+f)"
   ]
  },
  {
   "cell_type": "code",
   "execution_count": 16,
   "metadata": {},
   "outputs": [
    {
     "name": "stdout",
     "output_type": "stream",
     "text": [
      "Enter Something: a\n",
      " \n"
     ]
    }
   ],
   "source": [
    "#Task 7\n",
    "#Program: Words after \"G\"/\"g\"\n",
    "#Create a program inputs a phrase (like a famous quotation) and prints all of the words that start with h-z\n",
    "\n",
    "quote = input(\"Enter Something: \")\n",
    "blank_space = \" \"\n",
    "character = \" \"\n",
    "for word in quote:\n",
    "    if word.find(blank_space):\n",
    "        word = character\n",
    "        print(character)\n",
    "        \n",
    "    else:\n",
    "        if word > \"g\":\n",
    "            print(word)\n",
    "            word = \"\"\n",
    "            \n",
    "        else:\n",
    "            word = \"\"\n",
    "            \n",
    "        \n",
    "    \n",
    "    \n",
    "    \n"
   ]
  },
  {
   "cell_type": "markdown",
   "metadata": {},
   "source": [
    "# Module 1: End of Module Assignment"
   ]
  },
  {
   "cell_type": "code",
   "execution_count": 1,
   "metadata": {},
   "outputs": [
    {
     "name": "stdout",
     "output_type": "stream",
     "text": [
      "Quote: hi this is me\n",
      "HI\n",
      "THIS\n",
      "IS\n",
      "ME\n"
     ]
    }
   ],
   "source": [
    "quote = input(\"Quote: \")\n",
    "word = ''\n",
    "for letter in quote:\n",
    "    if letter.isalpha():\n",
    "        word += letter\n",
    "    elif word.lower() >= 'h':\n",
    "        print(word.upper())\n",
    "        word = ''\n",
    "    else:\n",
    "        word = ''\n",
    "        \n",
    "if word.lower() >= 'h':\n",
    "    print(word.upper())"
   ]
  },
  {
   "cell_type": "code",
   "execution_count": null,
   "metadata": {},
   "outputs": [],
   "source": []
  }
 ],
 "metadata": {
  "kernelspec": {
   "display_name": "Python 3",
   "language": "python",
   "name": "python3"
  },
  "language_info": {
   "codemirror_mode": {
    "name": "ipython",
    "version": 3
   },
   "file_extension": ".py",
   "mimetype": "text/x-python",
   "name": "python",
   "nbconvert_exporter": "python",
   "pygments_lexer": "ipython3",
   "version": "3.7.4"
  }
 },
 "nbformat": 4,
 "nbformat_minor": 2
}
