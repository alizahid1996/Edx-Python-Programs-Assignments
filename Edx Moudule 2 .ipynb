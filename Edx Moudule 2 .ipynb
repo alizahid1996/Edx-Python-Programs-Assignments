{
 "cells": [
  {
   "cell_type": "markdown",
   "metadata": {},
   "source": [
    "# Module 2 Section 1: List Sequences"
   ]
  },
  {
   "cell_type": "code",
   "execution_count": 3,
   "metadata": {},
   "outputs": [
    {
     "name": "stdout",
     "output_type": "stream",
     "text": [
      "ft_bones:  <class 'list'>\n",
      "['calcaneus', 'talus', 'cuboid', 'navicular', 'lateral cuneiform', 'intermediate cuneiform', 'medial cuneiform']\n"
     ]
    }
   ],
   "source": [
    "# [ ] review and run example\n",
    "# define list of strings\n",
    "ft_bones = [\"calcaneus\", \"talus\", \"cuboid\", \"navicular\", \"lateral cuneiform\", \"intermediate cuneiform\", \"medial cuneiform\"]\n",
    "\n",
    "# display type information\n",
    "print(\"ft_bones: \", type(ft_bones))\n",
    "\n",
    "# print the list\n",
    "print(ft_bones)"
   ]
  },
  {
   "cell_type": "code",
   "execution_count": 5,
   "metadata": {},
   "outputs": [
    {
     "name": "stdout",
     "output_type": "stream",
     "text": [
      "age_survey:  <class 'list'>\n",
      "[12, 14, 12, 29, 12, 14, 12, 12, 13, 12, 14, 13, 13, 46, 13, 12, 12, 13, 13, 12, 12]\n",
      "mixed_list:  <class 'list'>\n"
     ]
    }
   ],
   "source": [
    "# [ ] review and run example\n",
    "# define list of integers\n",
    "age_survey = [12, 14, 12, 29, 12, 14, 12, 12, 13, 12, 14, 13, 13, 46, 13, 12, 12, 13, 13, 12, 12]\n",
    "\n",
    "# display type information\n",
    "print(\"age_survey: \", type(age_survey))\n",
    "\n",
    "# print the list\n",
    "print(age_survey)\n",
    "# [ ] review and run example\n",
    "# define list of mixed data type\n",
    "mixed_list = [1, 34, 0.999, \"dog\", \"cat\", ft_bones, age_survey]\n",
    "\n",
    "# display type information\n",
    "print(\"mixed_list: \", type(mixed_list))"
   ]
  },
  {
   "cell_type": "markdown",
   "metadata": {},
   "source": [
    "# Task 1"
   ]
  },
  {
   "cell_type": "code",
   "execution_count": null,
   "metadata": {},
   "outputs": [],
   "source": [
    "## Task 1\n",
    "#Create Lists\n",
    "# [ ] create team_names list and populate with 3-5 team name strings\n",
    "\n",
    "# [ ] print the list\n",
    "\n",
    "team_names = [\"Pakistan\", \"Inida\", \"Australia\"]\n",
    "print(team_names)"
   ]
  },
  {
   "cell_type": "code",
   "execution_count": 7,
   "metadata": {},
   "outputs": [
    {
     "name": "stdout",
     "output_type": "stream",
     "text": [
      "['Paksitan', 154.27, 2, 'India', 74.28, 0]\n"
     ]
    }
   ],
   "source": [
    "mix_list  = [\"Paksitan\", 154.27, 2, \"India\", 74.28, 0]\n",
    "print(mix_list )"
   ]
  },
  {
   "cell_type": "code",
   "execution_count": 8,
   "metadata": {},
   "outputs": [
    {
     "name": "stdout",
     "output_type": "stream",
     "text": [
      "ft_bones:  <class 'list'>\n",
      "['calcaneus', 'talus', 'cuboid', 'navicular', 'lateral cuneiform', 'intermediate cuneiform', 'medial cuneiform']\n"
     ]
    }
   ],
   "source": [
    "# [ ] review and run example\n",
    "# define list of strings\n",
    "ft_bones = [\"calcaneus\", \"talus\", \"cuboid\", \"navicular\", \"lateral cuneiform\", \"intermediate cuneiform\", \"medial cuneiform\"]\n",
    "\n",
    "# display type information\n",
    "print(\"ft_bones: \", type(ft_bones))\n",
    "\n",
    "# print the list\n",
    "print(ft_bones)"
   ]
  },
  {
   "cell_type": "code",
   "execution_count": 9,
   "metadata": {},
   "outputs": [
    {
     "name": "stdout",
     "output_type": "stream",
     "text": [
      "calcaneus is the 1st bone on the list\n",
      "cuboid is the 3rd bone on the list\n",
      "medial cuneiform is the last bone on the list\n"
     ]
    }
   ],
   "source": [
    "# [ ] review and run example\n",
    "print(ft_bones[0], \"is the 1st bone on the list\")\n",
    "print(ft_bones[2], \"is the 3rd bone on the list\")\n",
    "print(ft_bones[-1], \"is the last bone on the list\")"
   ]
  },
  {
   "cell_type": "markdown",
   "metadata": {},
   "source": [
    "# Task 2"
   ]
  },
  {
   "cell_type": "code",
   "execution_count": 12,
   "metadata": {},
   "outputs": [
    {
     "name": "stdout",
     "output_type": "stream",
     "text": [
      "There is no parking at Street 1 or Street 5\n"
     ]
    }
   ],
   "source": [
    "streets = [\"Street 1\", \"Street 2\", \"Street 3\", \"Street 4\", \"Street 5\"]\n",
    "print(\"There is no parking at\", streets[0], \"or\", streets[4])"
   ]
  },
  {
   "cell_type": "code",
   "execution_count": 16,
   "metadata": {},
   "outputs": [
    {
     "name": "stdout",
     "output_type": "stream",
     "text": [
      "The sum is:\n",
      "56\n"
     ]
    }
   ],
   "source": [
    "num_2_add = [1, 2, 5, 25, 23]\n",
    "print(\"The sum is:\")\n",
    "print(num_2_add[0] + num_2_add[1] + num_2_add[2] + num_2_add[3] + num_2_add[4])"
   ]
  },
  {
   "cell_type": "markdown",
   "metadata": {},
   "source": [
    "# Task 3"
   ]
  },
  {
   "cell_type": "code",
   "execution_count": 21,
   "metadata": {},
   "outputs": [
    {
     "name": "stdout",
     "output_type": "stream",
     "text": [
      " Total of checks 3 & 4 = $ 60$ 70$\n"
     ]
    }
   ],
   "source": [
    "pay_checks = [\"20$\", \"30$\", \"60$\", \"70$\", \"990$\", \"240$\", \"280$\", \"890$\"]\n",
    "print(\" Total of checks 3 & 4 = $\", pay_checks[2], pay_checks[3])"
   ]
  },
  {
   "cell_type": "markdown",
   "metadata": {},
   "source": [
    "# Module 2 Section 2: List Append"
   ]
  },
  {
   "cell_type": "markdown",
   "metadata": {},
   "source": [
    "# Task 1"
   ]
  },
  {
   "cell_type": "code",
   "execution_count": 29,
   "metadata": {},
   "outputs": [
    {
     "name": "stdout",
     "output_type": "stream",
     "text": [
      "[0.04, 0.67, 0.455, 0.3345]\n",
      "[0.04, 0.67, 0.455, 0.3345, 0.9878]\n"
     ]
    }
   ],
   "source": [
    "cur_names = [\"USD\", \"PKR\", \"INR\", \"EURO\"]\n",
    "cur_values = [.04, .67, .455, .3345]\n",
    "print(cur_values)\n",
    "cur_values.append(.9878)\n",
    "print(cur_values)"
   ]
  },
  {
   "cell_type": "markdown",
   "metadata": {},
   "source": [
    "# Task 2"
   ]
  },
  {
   "cell_type": "code",
   "execution_count": 30,
   "metadata": {},
   "outputs": [
    {
     "name": "stdout",
     "output_type": "stream",
     "text": [
      "Enter a value to be appended: AUSD\n",
      "['USD', 'PKR', 'INR', 'EURO', 'AUSD']\n"
     ]
    }
   ],
   "source": [
    "a = input(\"Enter a value to be appended: \")\n",
    "cur_names.append(a)\n",
    "print(cur_names)"
   ]
  },
  {
   "cell_type": "markdown",
   "metadata": {},
   "source": [
    "# Task 3"
   ]
  },
  {
   "cell_type": "code",
   "execution_count": null,
   "metadata": {},
   "outputs": [
    {
     "name": "stdout",
     "output_type": "stream",
     "text": [
      "Enter day of month you were born (1-31) or 'q' to quit...12\n",
      "Enter day of month you were born (1-31) or 'q' to quit...12\n",
      "['12']\n",
      "Enter day of month you were born (1-31) or 'q' to quit...12\n",
      "['12', '12']\n",
      "Enter day of month you were born (1-31) or 'q' to quit...12\n",
      "['12', '12', '12']\n",
      "Enter day of month you were born (1-31) or 'q' to quit...12\n",
      "['12', '12', '12', '12']\n",
      "Enter day of month you were born (1-31) or 'q' to quit...q\n",
      "['12', '12', '12', '12', '12']\n",
      "Enter day of month you were born (1-31) or 'q' to quit...quit\n",
      "['12', '12', '12', '12', '12', '12']\n",
      "Enter day of month you were born (1-31) or 'q' to quit...Q\n",
      "['12', '12', '12', '12', '12', '12', '12']\n",
      "Enter day of month you were born (1-31) or 'q' to quit...\"Q\"\n",
      "['12', '12', '12', '12', '12', '12', '12', '12']\n",
      "Enter day of month you were born (1-31) or 'q' to quit...q\n",
      "['12', '12', '12', '12', '12', '12', '12', '12', '12']\n"
     ]
    }
   ],
   "source": [
    "bday_survey = []\n",
    "bday = input(\"Enter day of month you were born (1-31) or 'q' to quit...\")\n",
    "while bday.lower() != \"q\" or bday.upper() != \"Q\":\n",
    "    \n",
    "    bady = input(\"Enter day of month you were born (1-31) or 'q' to quit...\")\n",
    "    bday_survey.append(bday)\n",
    "    print(bday_survey)\n",
    "    \n",
    "    \n",
    "\n",
    "    "
   ]
  },
  {
   "cell_type": "markdown",
   "metadata": {},
   "source": [
    "# Task 4"
   ]
  },
  {
   "cell_type": "code",
   "execution_count": 2,
   "metadata": {},
   "outputs": [
    {
     "name": "stdout",
     "output_type": "stream",
     "text": [
      "an item in the list is:  2\n"
     ]
    }
   ],
   "source": [
    "#Fix The Error\n",
    "# [ ] Fix the Error\n",
    "three_numbers = [1, 1, 2]\n",
    "print(\"an item in the list is: \", three_numbers[2])\n",
    "\n",
    "# The error was there is no 3rd index so I changed it to 2"
   ]
  },
  {
   "cell_type": "markdown",
   "metadata": {},
   "source": [
    "# Module 2 Section 3: List Insert"
   ]
  },
  {
   "cell_type": "markdown",
   "metadata": {},
   "source": [
    "# Task 1"
   ]
  },
  {
   "cell_type": "code",
   "execution_count": null,
   "metadata": {},
   "outputs": [],
   "source": [
    "# replace items in a list\n",
    "# create a list, three_num, containing 3 single digit integers\n",
    "# print three_num\n",
    "# check if index 0 value is < 5\n",
    "# if < 5 , replace index 0 with a string: \"small\"\n",
    "# else, replace index 0 with a string: \"large\"\n",
    "# print three_num\n",
    "# [ ] complete \"replace items in a list\" task\n",
    "\n"
   ]
  },
  {
   "cell_type": "code",
   "execution_count": 6,
   "metadata": {},
   "outputs": [
    {
     "name": "stdout",
     "output_type": "stream",
     "text": [
      "Before:  [4, 7, 9] \n",
      "\n",
      "After:  ['small', 7, 9]\n"
     ]
    }
   ],
   "source": [
    "three_num = [4, 7, 9]\n",
    "print(\"Before: \", three_num, \"\\n\")\n",
    "if three_num[0] < 5:\n",
    "    three_num[0] = \"small\"\n",
    "    print(\"After: \", three_num)\n",
    "\n",
    "else:\n",
    "    three_num[0] = \"large\"\n",
    "    print(\"After: \", three_num)"
   ]
  },
  {
   "cell_type": "code",
   "execution_count": 24,
   "metadata": {},
   "outputs": [],
   "source": [
    "# Function Challenge: create replacement function\n",
    "# Create a function, str_replace, that takes 2 arguments: int_list and index\n",
    "# int_list is a list of single digit integers\n",
    "# index is the index that will be checked - such as with int_list[index]\n",
    "# Function replicates purpose of task \"replace items in a list\" above and replaces an integer with a string \"small\" or \"large\"\n",
    "# return int_list\n",
    "# Test the function!\n",
    "\n",
    "# [ ]  create challenge function\n",
    "\n",
    "\n",
    "\n",
    "def str_replace(int_list, index):\n",
    "    if int_list[0] < 5:\n",
    "        int_list[index] = \"Small\"\n",
    "        print(int_list)\n",
    "    else:\n",
    "        int_list[index] = \"Large\"\n",
    "        print(int_list)\n",
    "        \n",
    "    \n",
    "    \n",
    "    \n",
    "    \n"
   ]
  },
  {
   "cell_type": "code",
   "execution_count": 25,
   "metadata": {},
   "outputs": [
    {
     "name": "stdout",
     "output_type": "stream",
     "text": [
      "[4, 8, 7, 7, 'Small', 7, 8]\n"
     ]
    }
   ],
   "source": [
    "str_replace([4, 8, 7, 7, 9, 7, 8], 4)"
   ]
  },
  {
   "cell_type": "markdown",
   "metadata": {},
   "source": [
    "# Task 2"
   ]
  },
  {
   "cell_type": "code",
   "execution_count": 38,
   "metadata": {
    "scrolled": true
   },
   "outputs": [
    {
     "name": "stdout",
     "output_type": "stream",
     "text": [
      "PAKISTAN\n",
      "cHINA \n",
      " ['Pakistan', 'India', 'China']\n"
     ]
    }
   ],
   "source": [
    "three_words = [\"Pakistan\", \"India\", \"China\"]\n",
    "\n",
    "print(three_words[0].upper())\n",
    "print(three_words[2].swapcase(), \"\\n\", three_words[:])\n"
   ]
  },
  {
   "cell_type": "markdown",
   "metadata": {},
   "source": [
    "# Task 3"
   ]
  },
  {
   "cell_type": "code",
   "execution_count": 3,
   "metadata": {},
   "outputs": [
    {
     "name": "stdout",
     "output_type": "stream",
     "text": [
      "Enter a name : ali\n",
      "['Joana', 'ali', 'Alton', 'Tobias']\n"
     ]
    }
   ],
   "source": [
    "# insert() input into a list\n",
    "# [ ] insert a name from user input into the party_list in the second position (index 1)\n",
    "\n",
    "\n",
    "# [ ] print the updated list\n",
    "\n",
    "party_list = [\"Joana\", \"Alton\", \"Tobias\"]\n",
    "a = input(\"Enter a name : \")\n",
    "party_list.insert(1,a) \n",
    "print(party_list)"
   ]
  },
  {
   "cell_type": "markdown",
   "metadata": {},
   "source": [
    "# Task 4\n"
   ]
  },
  {
   "cell_type": "code",
   "execution_count": 8,
   "metadata": {},
   "outputs": [
    {
     "name": "stdout",
     "output_type": "stream",
     "text": [
      "tree_list before = ['oak']\n",
      "tree_list after  = ['oak', 'pine']\n"
     ]
    }
   ],
   "source": [
    "# Fix The Error\n",
    "# [ ] Fix the Error\n",
    "tree_list = [\"oak\"]\n",
    "print(\"tree_list before =\", tree_list)\n",
    "tree_list.insert(1,\"pine\")\n",
    "print(\"tree_list after  =\", tree_list)"
   ]
  },
  {
   "cell_type": "markdown",
   "metadata": {},
   "source": [
    "# Module 2 Section 4: List Delete"
   ]
  },
  {
   "cell_type": "code",
   "execution_count": 9,
   "metadata": {},
   "outputs": [
    {
     "name": "stdout",
     "output_type": "stream",
     "text": [
      "sample_list before:  [11, 21, 13, 14, 51, 161, 117, 181]\n"
     ]
    }
   ],
   "source": [
    "# [ ] review and run example\n",
    "# the list before delete\n",
    "sample_list = [11, 21, 13, 14, 51, 161, 117, 181]\n",
    "print(\"sample_list before: \", sample_list)"
   ]
  },
  {
   "cell_type": "code",
   "execution_count": 21,
   "metadata": {},
   "outputs": [
    {
     "ename": "IndexError",
     "evalue": "list assignment index out of range",
     "output_type": "error",
     "traceback": [
      "\u001b[1;31m---------------------------------------------------------------------------\u001b[0m",
      "\u001b[1;31mIndexError\u001b[0m                                Traceback (most recent call last)",
      "\u001b[1;32m<ipython-input-21-9ae91aa532f1>\u001b[0m in \u001b[0;36m<module>\u001b[1;34m\u001b[0m\n\u001b[1;32m----> 1\u001b[1;33m \u001b[1;32mdel\u001b[0m \u001b[0msample_list\u001b[0m\u001b[1;33m[\u001b[0m\u001b[1;36m1\u001b[0m\u001b[1;33m]\u001b[0m\u001b[1;33m\u001b[0m\u001b[1;33m\u001b[0m\u001b[0m\n\u001b[0m\u001b[0;32m      2\u001b[0m \u001b[1;31m# the list after delete\u001b[0m\u001b[1;33m\u001b[0m\u001b[1;33m\u001b[0m\u001b[1;33m\u001b[0m\u001b[0m\n\u001b[0;32m      3\u001b[0m \u001b[0mprint\u001b[0m\u001b[1;33m(\u001b[0m\u001b[1;34m\"sample_list after:  \"\u001b[0m\u001b[1;33m,\u001b[0m \u001b[0msample_list\u001b[0m\u001b[1;33m)\u001b[0m\u001b[1;33m\u001b[0m\u001b[1;33m\u001b[0m\u001b[0m\n",
      "\u001b[1;31mIndexError\u001b[0m: list assignment index out of range"
     ]
    }
   ],
   "source": [
    "del sample_list[1]\n",
    "# the list after delete\n",
    "print(\"sample_list after:  \", sample_list)"
   ]
  },
  {
   "cell_type": "code",
   "execution_count": 47,
   "metadata": {},
   "outputs": [
    {
     "name": "stdout",
     "output_type": "stream",
     "text": [
      "sample_list before: [11, 21, 13, 14, 51, 161, 117, 181]\n",
      "sample_list after: [11, 21, 181]\n"
     ]
    }
   ],
   "source": [
    "# [ ] review and run example Multiple Times\n",
    "# [ ] consider how to reset the list values?\n",
    "sample_list = [11, 21, 13, 14, 51, 161, 117, 181]\n",
    "print(\"sample_list before:\", sample_list)\n",
    "del sample_list[2:-1]\n",
    "print(\"sample_list after:\", sample_list)"
   ]
  },
  {
   "cell_type": "code",
   "execution_count": 53,
   "metadata": {},
   "outputs": [
    {
     "name": "stdout",
     "output_type": "stream",
     "text": [
      "mixed_types list:  [1, 'cat', 3]\n",
      "By using insert: mixed_types list:  [1, 'cat', 3]\n"
     ]
    }
   ],
   "source": [
    "# [ ] review and run example\n",
    "# By using 'Append' method\n",
    "mixed_types = [1, \"cat\"]\n",
    "# append number\n",
    "mixed_types.append(3)\n",
    "print(\"mixed_types list: \", mixed_types)\n",
    "# By using 'Insert' method\n",
    "mixed_types = [1, \"cat\"]\n",
    "mixed_types.insert(2,3)\n",
    "print(\"By using insert: mixed_types list: \", mixed_types)\n"
   ]
  },
  {
   "cell_type": "code",
   "execution_count": 54,
   "metadata": {},
   "outputs": [
    {
     "name": "stdout",
     "output_type": "stream",
     "text": [
      "mixed_types list:  [1, 'cat', 3, 'turtle']\n"
     ]
    }
   ],
   "source": [
    "# append string\n",
    "mixed_types.append(\"turtle\")\n",
    "print(\"mixed_types list: \", mixed_types)"
   ]
  },
  {
   "cell_type": "markdown",
   "metadata": {},
   "source": [
    "# Task 1"
   ]
  },
  {
   "cell_type": "code",
   "execution_count": 62,
   "metadata": {},
   "outputs": [
    {
     "name": "stdout",
     "output_type": "stream",
     "text": [
      "['calcaneus', 'talus', 'cuboid', 'navicular', 'lateral cuneiform', 'intermediate cuneiform', 'medial cuneiform']\n",
      "['calcaneus', 'talus', 'navicular', 'lateral cuneiform', 'intermediate cuneiform', 'medial cuneiform']\n"
     ]
    }
   ],
   "source": [
    "#del statement\n",
    "# [ ] print ft_bones list\n",
    "# [ ] delete \"cuboid\" from ft_bones\n",
    "# [ ] reprint list\n",
    "ft_bones = [\"calcaneus\", \"talus\", \"cuboid\", \"navicular\", \"lateral cuneiform\", \n",
    "            \"intermediate cuneiform\", \"medial cuneiform\"]\n",
    "\n",
    "print(ft_bones)\n",
    "del ft_bones[2]\n",
    "print(ft_bones)"
   ]
  },
  {
   "cell_type": "markdown",
   "metadata": {},
   "source": [
    "# Task 2"
   ]
  },
  {
   "cell_type": "code",
   "execution_count": 5,
   "metadata": {},
   "outputs": [
    {
     "name": "stdout",
     "output_type": "stream",
     "text": [
      "['calcaneus', 'talus', 'navicular', 'intermediate cuneiform', 'medial cuneiform']\n"
     ]
    }
   ],
   "source": [
    "# multiple del statements\n",
    "# [ ] print ft_bones list\n",
    "# [ ] delete \"cuboid\" from ft_bones\n",
    "# [ ] delete \"navicular\" from list\n",
    "# [ ] reprint list\n",
    "# [ ] check for deletion of \"cuboid\" and \"navicular\"\n",
    "ft_bones = [\"calcaneus\", \"talus\", \"cuboid\", \"navicular\", \"lateral cuneiform\", \n",
    "            \"intermediate cuneiform\", \"medial cuneiform\"]\n",
    "\n",
    "del ft_bones[2], ft_bones[3]\n",
    "print(ft_bones)\n"
   ]
  },
  {
   "cell_type": "markdown",
   "metadata": {},
   "source": [
    "# Task 3"
   ]
  },
  {
   "cell_type": "code",
   "execution_count": 7,
   "metadata": {},
   "outputs": [
    {
     "name": "stdout",
     "output_type": "stream",
     "text": [
      "calcaneus \n",
      " medial cuneiform\n"
     ]
    }
   ],
   "source": [
    "# pop()\n",
    "# [ ] pop() and print the first and last items from the ft_bones list\n",
    "# [ ] print the remaining list\n",
    "\n",
    "ft_bones = [\"calcaneus\", \"talus\", \"cuboid\", \"navicular\", \"lateral cuneiform\", \n",
    "            \"intermediate cuneiform\", \"medial cuneiform\"]\n",
    "item1 = ft_bones.pop(0)\n",
    "item2 = ft_bones.pop(-1)\n",
    "print(item1, \"\\n\", item2)\n",
    "\n",
    "\n",
    "\n",
    "\n"
   ]
  },
  {
   "cell_type": "markdown",
   "metadata": {},
   "source": [
    "# Task 4 pt 1"
   ]
  },
  {
   "cell_type": "code",
   "execution_count": null,
   "metadata": {},
   "outputs": [],
   "source": [
    "\n",
    "#Cash Register Input\n",
    "#create a empty list purchase_amounts\n",
    "#populate the list with user input for the price of items\n",
    "#continue adding to list with while until \"done\" is entered\n",
    "#can use while True: with break\n",
    "#print purchase_amounts\n",
    "#continue to pt 2\n",
    "#[ ] complete the Register Input task above"
   ]
  },
  {
   "cell_type": "code",
   "execution_count": 11,
   "metadata": {},
   "outputs": [
    {
     "name": "stdout",
     "output_type": "stream",
     "text": [
      "Enter price of items: 1\n",
      "Enter price of items: 1\n",
      "Enter price of items: 1\n",
      "Enter price of items: done\n",
      "['1', '1', '1']\n"
     ]
    }
   ],
   "source": [
    "purchase_amounts = []\n",
    "items = ''\n",
    "\n",
    "\n",
    "\n",
    "while True:\n",
    "    items = input(\"Enter price of items: \")\n",
    "    if items.lower() != \"done\":\n",
    "        purchase_amounts.append(items)\n",
    "        \n",
    "    else:\n",
    "        break\n",
    "        \n",
    "    \n",
    "    \n",
    "print(purchase_amounts)\n",
    "\n",
    "\n",
    "    \n",
    "    \n",
    "        \n",
    "        \n",
    "    \n",
    "    \n",
    "    \n",
    "    "
   ]
  },
  {
   "cell_type": "markdown",
   "metadata": {},
   "source": [
    "# Task 4 pt 2"
   ]
  },
  {
   "cell_type": "code",
   "execution_count": 12,
   "metadata": {},
   "outputs": [
    {
     "name": "stdout",
     "output_type": "stream",
     "text": [
      "3.0\n"
     ]
    }
   ],
   "source": [
    "subtotal = 0\n",
    "while purchase_amounts:\n",
    "    subtotal += float(purchase_amounts.pop())\n",
    "    \n",
    "    \n",
    "print(subtotal)"
   ]
  },
  {
   "cell_type": "code",
   "execution_count": 27,
   "metadata": {},
   "outputs": [],
   "source": [
    "dog_types = [\"Poodle\", \"Lab\", \"Pug\", \"Poodle\",\"Poodle\",\"Poodle\", \"Pug\"]"
   ]
  },
  {
   "cell_type": "code",
   "execution_count": 31,
   "metadata": {},
   "outputs": [
    {
     "name": "stdout",
     "output_type": "stream",
     "text": [
      "['Lab', 'Pug', 'Poodle', 'Poodle', 'Poodle', 'Pug']\n",
      "['Lab', 'Pug', 'Poodle', 'Poodle', 'Pug']\n",
      "['Lab', 'Pug', 'Poodle', 'Pug']\n",
      "['Lab', 'Pug', 'Pug']\n"
     ]
    }
   ],
   "source": [
    "print(dog_types)\n",
    "while \"Poodle\" in dog_types:\n",
    "    dog_types.remove(\"Poodle\")\n",
    "    print(dog_types)"
   ]
  },
  {
   "cell_type": "code",
   "execution_count": 35,
   "metadata": {},
   "outputs": [
    {
     "name": "stdout",
     "output_type": "stream",
     "text": [
      "['Pug', 'Poodle', 'Poodle', 'Pug', 'Poodle']\n"
     ]
    }
   ],
   "source": [
    "# [ ] review and run example\n",
    "# Change to \"Lab\", etc... to fix error\n",
    "dogs = [\"Lab\", \"Pug\", \"Poodle\", \"Poodle\", \"Pug\", \"Poodle\"]\n",
    "dogs.remove(\"Lab\")\n",
    "print(dogs)"
   ]
  },
  {
   "cell_type": "code",
   "execution_count": 36,
   "metadata": {},
   "outputs": [
    {
     "ename": "ValueError",
     "evalue": "list.remove(x): x not in list",
     "output_type": "error",
     "traceback": [
      "\u001b[1;31m---------------------------------------------------------------------------\u001b[0m",
      "\u001b[1;31mValueError\u001b[0m                                Traceback (most recent call last)",
      "\u001b[1;32m<ipython-input-36-da7832011059>\u001b[0m in \u001b[0;36m<module>\u001b[1;34m\u001b[0m\n\u001b[0;32m      1\u001b[0m \u001b[1;31m# [ ] review and run example\u001b[0m\u001b[1;33m\u001b[0m\u001b[1;33m\u001b[0m\u001b[1;33m\u001b[0m\u001b[0m\n\u001b[0;32m      2\u001b[0m \u001b[1;31m# Change to \"Lab\", etc... to fix error\u001b[0m\u001b[1;33m\u001b[0m\u001b[1;33m\u001b[0m\u001b[1;33m\u001b[0m\u001b[0m\n\u001b[1;32m----> 3\u001b[1;33m \u001b[0mdogs\u001b[0m\u001b[1;33m.\u001b[0m\u001b[0mremove\u001b[0m\u001b[1;33m(\u001b[0m\u001b[1;34m\"Collie\"\u001b[0m\u001b[1;33m)\u001b[0m\u001b[1;33m\u001b[0m\u001b[1;33m\u001b[0m\u001b[0m\n\u001b[0m\u001b[0;32m      4\u001b[0m \u001b[0mprint\u001b[0m\u001b[1;33m(\u001b[0m\u001b[0mdogs\u001b[0m\u001b[1;33m)\u001b[0m\u001b[1;33m\u001b[0m\u001b[1;33m\u001b[0m\u001b[0m\n",
      "\u001b[1;31mValueError\u001b[0m: list.remove(x): x not in list"
     ]
    }
   ],
   "source": [
    "# [ ] review and run example\n",
    "# Change to \"Lab\", etc... to fix error\n",
    "dogs.remove(\"Collie\")\n",
    "print(dogs)"
   ]
  },
  {
   "cell_type": "markdown",
   "metadata": {},
   "source": [
    "# Task 5"
   ]
  },
  {
   "cell_type": "code",
   "execution_count": 37,
   "metadata": {},
   "outputs": [
    {
     "name": "stdout",
     "output_type": "stream",
     "text": [
      "Before:  ['Lab', 'Pug', 'Poodle', 'Poodle', 'Pug', 'Poodle']\n",
      "['Lab', 'Pug', 'Poodle', 'Pug', 'Poodle']\n"
     ]
    }
   ],
   "source": [
    "\n",
    "# .remove()\n",
    "# [ ] remove one \"Poodle\" from the list: dogs , or print \"no Poodle found\"\n",
    "# [ ] print list before and after\n",
    "\n",
    "dogs = [\"Lab\", \"Pug\", \"Poodle\", \"Poodle\", \"Pug\", \"Poodle\"]\n",
    "print(\"Before: \", dogs)\n",
    "if \"Poodle\" in dogs:\n",
    "    dogs.remove(\"Poodle\")\n",
    "    print(dogs)\n",
    "    \n",
    "else:\n",
    "    prin(\"No poodle found\")"
   ]
  },
  {
   "cell_type": "markdown",
   "metadata": {},
   "source": [
    "# Module 2 : Practice"
   ]
  },
  {
   "cell_type": "code",
   "execution_count": 4,
   "metadata": {},
   "outputs": [
    {
     "name": "stdout",
     "output_type": "stream",
     "text": [
      "['Monday', 'Tuesday', 'Wedneday', 'Thursday', 'Friday', 'Saturday', 'Sunday']\n"
     ]
    }
   ],
   "source": [
    "# [ ] create and populate list called days_of_week then print it\n",
    "days_of_week = [\"Monday\", \"Tuesday\", \"Wedneday\", \"Thursday\", \"Friday\", \"Saturday\", \"Sunday\"]\n",
    "print(days_of_week)\n"
   ]
  },
  {
   "cell_type": "code",
   "execution_count": 5,
   "metadata": {},
   "outputs": [
    {
     "name": "stdout",
     "output_type": "stream",
     "text": [
      "['Tuesday', 'Thursday', 'Saturday']\n"
     ]
    }
   ],
   "source": [
    "print(days_of_week[1::2])"
   ]
  },
  {
   "cell_type": "code",
   "execution_count": 6,
   "metadata": {},
   "outputs": [
    {
     "name": "stdout",
     "output_type": "stream",
     "text": [
      "[' ', '', 'ABC', 'DEF', 'GHI', 'JKL', 'MNO', 'PQRS', 'TUV', 'WXYZ']\n"
     ]
    }
   ],
   "source": [
    "# Create a list, phone_letters, where the index 0 - 9 contains the letters for keys 0 - 9.\n",
    "\n",
    "# 0 = ' ' (a space)\n",
    "# 1 = '' (empty)\n",
    "# 2 = 'ABC'\n",
    "# 3 = 'DEF'\n",
    "# etc...\n",
    "# [ ] create and populate list called phone_letters then print it\n",
    "\n",
    "phone_letters = [' ', '', \"ABC\", \"DEF\", \"GHI\", \"JKL\", \"MNO\", \"PQRS\", \"TUV\", \"WXYZ\"]\n",
    "print(phone_letters)"
   ]
  },
  {
   "cell_type": "code",
   "execution_count": 16,
   "metadata": {},
   "outputs": [
    {
     "name": "stdout",
     "output_type": "stream",
     "text": [
      "Tuesday\n"
     ]
    }
   ],
   "source": [
    "# [ ] create a variable: day, assign day to \"Tuesday\" using days_of_week[]\n",
    "# [ ] print day variable\n",
    "\n",
    "days_of_week = [\"Monday\", \"Tuesday\", \"Wedneday\", \"Thursday\", \"Friday\", \"Saturday\", \"Sunday\"]\n",
    "day = \"\"\n",
    "day = days_of_week[1] \n",
    "print(day)\n",
    "\n"
   ]
  },
  {
   "cell_type": "code",
   "execution_count": 17,
   "metadata": {},
   "outputs": [
    {
     "name": "stdout",
     "output_type": "stream",
     "text": [
      "Tuesday\n",
      "['Monday', 'Tuesday', 'Wedneday', 'Thursday', 'Friday', 'Tuesday', 'Sunday']\n"
     ]
    }
   ],
   "source": [
    "# PART 2\n",
    "# [ ] assign day to days_of_week index = 5\n",
    "# [ ] print day\n",
    "\n",
    "days_of_week[5] = day\n",
    "print(days_of_week[5])\n",
    "print(days_of_week)"
   ]
  },
  {
   "cell_type": "code",
   "execution_count": 9,
   "metadata": {},
   "outputs": [
    {
     "name": "stdout",
     "output_type": "stream",
     "text": [
      "['Monday', 'Tuesday', 'Wedneday', 'Thursday', 'Friday', 'Saturday', 'Sunday', 'New day of week'] \n",
      "\n",
      "['Monday', 'Tuesday', 'Wedneday', 'Between wed & thu', 'Thursday', 'Friday', 'Saturday', 'Sunday', 'New day of week'] \n",
      "\n",
      "['Monday', 'Tuesday', 'Wedneday', 'Between wed & thu', 'Thursday', 'Friday', 'Between fri & sat', 'Saturday', 'Sunday', 'New day of week']\n"
     ]
    }
   ],
   "source": [
    "days_of_week = [\"Monday\", \"Tuesday\", \"Wedneday\", \"Thursday\", \"Friday\", \"Saturday\", \"Sunday\"]\n",
    "\n",
    "\n",
    "days_of_week.append(\"New day of week\")\n",
    "print(days_of_week, \"\\n\")\n",
    "\n",
    "days_of_week.insert(3,\"Between wed & thu\")\n",
    "print(days_of_week, \"\\n\")\n",
    "\n",
    "days_of_week.insert(6,\"Between fri & sat\")\n",
    "print(days_of_week)\n",
    "\n",
    "\n"
   ]
  },
  {
   "cell_type": "code",
   "execution_count": 10,
   "metadata": {},
   "outputs": [
    {
     "name": "stdout",
     "output_type": "stream",
     "text": [
      "New day of week\n",
      "['Monday', 'Tuesday', 'Wedneday', 'Between wed & thu', 'Thursday', 'Friday', 'Between fri & sat', 'Saturday', 'Sunday']\n"
     ]
    }
   ],
   "source": [
    "popped = days_of_week.pop()\n",
    "print(popped)\n",
    "print(days_of_week)"
   ]
  },
  {
   "cell_type": "code",
   "execution_count": 11,
   "metadata": {},
   "outputs": [
    {
     "name": "stdout",
     "output_type": "stream",
     "text": [
      "['Monday', 'Tuesday', 'Wedneday', 'Between wed & thu', 'Thursday', 'Friday', 'Between fri & sat', 'Saturday', 'Sunday']\n"
     ]
    }
   ],
   "source": [
    "print(days_of_week)"
   ]
  },
  {
   "cell_type": "code",
   "execution_count": 12,
   "metadata": {},
   "outputs": [
    {
     "name": "stdout",
     "output_type": "stream",
     "text": [
      "['Monday', 'Tuesday', 'Wedneday', 'Thursday', 'Friday', 'Between fri & sat', 'Saturday', 'Sunday']\n"
     ]
    }
   ],
   "source": [
    "del days_of_week[3]\n",
    "print(days_of_week)"
   ]
  },
  {
   "cell_type": "code",
   "execution_count": 14,
   "metadata": {},
   "outputs": [
    {
     "name": "stdout",
     "output_type": "stream",
     "text": [
      "Saturday\n",
      "['Monday', 'Tuesday', 'Wedneday', 'Thursday', 'Friday', 'Sunday']\n"
     ]
    }
   ],
   "source": [
    "popped = days_of_week.pop(5)\n",
    "print(popped)\n",
    "print(days_of_week)"
   ]
  },
  {
   "cell_type": "code",
   "execution_count": 17,
   "metadata": {},
   "outputs": [
    {
     "name": "stdout",
     "output_type": "stream",
     "text": [
      "E found\n"
     ]
    }
   ],
   "source": [
    "if \"DEF\" in phone_letters:\n",
    "    print(\"E found\")\n",
    "else:\n",
    "    print(\"Not found\")"
   ]
  },
  {
   "cell_type": "code",
   "execution_count": 5,
   "metadata": {},
   "outputs": [
    {
     "name": "stdout",
     "output_type": "stream",
     "text": [
      "[' ', '', 'ABC', 'DEF', 'GHI', 'JKL', 'MNO', 'PQRS', 'TUV', 'WXYZ']\n"
     ]
    }
   ],
   "source": [
    "\n",
    "print(phone_letters)"
   ]
  },
  {
   "cell_type": "code",
   "execution_count": 6,
   "metadata": {},
   "outputs": [
    {
     "name": "stdout",
     "output_type": "stream",
     "text": [
      "Enter any string: \n",
      "0\n"
     ]
    }
   ],
   "source": [
    "phone_letters = [' ', '', \"ABC\", \"DEF\", \"GHI\", \"JKL\", \"MNO\", \"PQRS\", \"TUV\", \"WXYZ\", \"0\"]\n",
    "\n",
    "def let_to_num():\n",
    "    letter = input(\"Enter any string: \")\n",
    "    \n",
    "    a = 0\n",
    "    while a < 10:\n",
    "        # While body\n",
    "        if letter in phone_letters[a]:\n",
    "            return a\n",
    "        \n",
    "\n",
    "        else:\n",
    "            a = a + 1\n",
    "            \n",
    "    return (\"Not Found\")\n",
    "    \n",
    "    # Out of While body \n",
    "            \n",
    "print(let_to_num())\n",
    "            \n",
    "        "
   ]
  },
  {
   "cell_type": "code",
   "execution_count": 11,
   "metadata": {},
   "outputs": [
    {
     "name": "stdout",
     "output_type": "stream",
     "text": [
      "ila\n"
     ]
    }
   ],
   "source": [
    "#using while\n",
    "string = \"ali\"\n",
    "while True:\n",
    "    print(string[::-1])\n",
    "    break"
   ]
  },
  {
   "cell_type": "code",
   "execution_count": 18,
   "metadata": {},
   "outputs": [
    {
     "name": "stdout",
     "output_type": "stream",
     "text": [
      "ila\n"
     ]
    }
   ],
   "source": [
    "# using pop()\n",
    "popped = []\n",
    "string = [\"ali\"]\n",
    "popped = string.pop()\n",
    "print(popped[::-1])\n"
   ]
  },
  {
   "cell_type": "code",
   "execution_count": 24,
   "metadata": {},
   "outputs": [
    {
     "name": "stdout",
     "output_type": "stream",
     "text": [
      "['ali', 'bilal', 'hamza']\n",
      "ali\n"
     ]
    }
   ],
   "source": [
    "# using insert\n",
    "string = [\"ali\",\"bilal\",\"hamza\"]\n",
    "rev_string = []\n",
    "while len(string):\n",
    "    rev = string.pop()\n",
    "    rev_string.insert(0,rev)\n",
    "print(rev_string)\n",
    "print(rev)\n",
    "    "
   ]
  },
  {
   "cell_type": "code",
   "execution_count": 22,
   "metadata": {},
   "outputs": [
    {
     "name": "stdout",
     "output_type": "stream",
     "text": [
      "1\n",
      "[]\n",
      "[77, 66, 55, 44, 33, 22, 11, 9, 8, 7, 6, 5, 4, 3, 2, 1]\n"
     ]
    }
   ],
   "source": [
    "\n",
    "some_numbers =[1,2,3,4,5,6,7,8,9,11,22,33,44,55,66,77]\n",
    "\n",
    "rev_string = []\n",
    "\n",
    "while len(some_numbers):\n",
    "    rev = some_numbers.pop()\n",
    "    rev_string.insert(15,rev)\n",
    "print(rev)\n",
    "\n",
    "print(some_numbers)\n",
    "print(rev_string)"
   ]
  },
  {
   "cell_type": "code",
   "execution_count": 5,
   "metadata": {},
   "outputs": [
    {
     "data": {
      "text/plain": [
       "16"
      ]
     },
     "execution_count": 5,
     "metadata": {},
     "output_type": "execute_result"
    }
   ],
   "source": [
    "some_numbers =[1,2,3,4,5,6,7,8,9,11,22,33,44,55,66,77]\n",
    "len(some_numbers)"
   ]
  },
  {
   "cell_type": "code",
   "execution_count": 1,
   "metadata": {},
   "outputs": [
    {
     "ename": "TypeError",
     "evalue": "'type' object is not iterable",
     "output_type": "error",
     "traceback": [
      "\u001b[1;31m---------------------------------------------------------------------------\u001b[0m",
      "\u001b[1;31mTypeError\u001b[0m                                 Traceback (most recent call last)",
      "\u001b[1;32m<ipython-input-1-813ff60198b0>\u001b[0m in \u001b[0;36m<module>\u001b[1;34m\u001b[0m\n\u001b[0;32m      1\u001b[0m \u001b[0mmovies\u001b[0m \u001b[1;33m=\u001b[0m \u001b[1;33m[\u001b[0m\u001b[1;34m\"Spiderman\"\u001b[0m\u001b[1;33m,\u001b[0m \u001b[1;34m\"Superman\"\u001b[0m\u001b[1;33m,\u001b[0m \u001b[1;34m\"Batman\"\u001b[0m\u001b[1;33m,\u001b[0m \u001b[1;34m\"Antman\"\u001b[0m\u001b[1;33m]\u001b[0m\u001b[1;33m\u001b[0m\u001b[1;33m\u001b[0m\u001b[0m\n\u001b[0;32m      2\u001b[0m \u001b[0mitem\u001b[0m \u001b[1;33m=\u001b[0m \u001b[1;34m\"\"\u001b[0m\u001b[1;33m\u001b[0m\u001b[1;33m\u001b[0m\u001b[0m\n\u001b[1;32m----> 3\u001b[1;33m \u001b[1;32mfor\u001b[0m \u001b[0mvalue\u001b[0m \u001b[1;32min\u001b[0m \u001b[0mlist\u001b[0m\u001b[1;33m:\u001b[0m\u001b[1;33m\u001b[0m\u001b[1;33m\u001b[0m\u001b[0m\n\u001b[0m\u001b[0;32m      4\u001b[0m     \u001b[1;32mif\u001b[0m \u001b[0mitem\u001b[0m \u001b[1;32min\u001b[0m \u001b[0mmovies\u001b[0m\u001b[1;33m:\u001b[0m\u001b[1;33m\u001b[0m\u001b[1;33m\u001b[0m\u001b[0m\n\u001b[0;32m      5\u001b[0m         \u001b[0ma\u001b[0m\u001b[1;33m=\u001b[0m \u001b[0mmovies\u001b[0m\u001b[1;33m.\u001b[0m\u001b[0mfind\u001b[0m\u001b[1;33m(\u001b[0m\u001b[0mitem\u001b[0m\u001b[1;33m)\u001b[0m\u001b[1;33m\u001b[0m\u001b[1;33m\u001b[0m\u001b[0m\n",
      "\u001b[1;31mTypeError\u001b[0m: 'type' object is not iterable"
     ]
    }
   ],
   "source": [
    "movies = [\"Spiderman\", \"Superman\", \"Batman\", \"Antman\"]\n",
    "item = \"\"\n",
    "for value in list:\n",
    "    if item in movies:\n",
    "        a= movies.find(item)\n",
    "        movies[a] == item"
   ]
  },
  {
   "cell_type": "code",
   "execution_count": 5,
   "metadata": {},
   "outputs": [
    {
     "name": "stdout",
     "output_type": "stream",
     "text": [
      "Look at my list of fish: ['salmon', 'cod']\n",
      "Enter any type of fish or Q to quit: fish\n",
      "Look at my list of fish: ['salmon', 'cod']\n",
      "1 instance of fish appended to list\n",
      "['salmon', 'cod', 'fish']\n",
      "Enter any type of fish or Q to quit: fish\n",
      "Look at my list of fish: ['salmon', 'cod', 'fish']\n",
      "fish has been removed from list\n",
      "['salmon', 'cod']\n",
      "Enter any type of fish or Q to quit: cod\n",
      "Look at my list of fish: ['salmon', 'cod']\n",
      "cod has been removed from list\n",
      "['salmon']\n",
      "Enter any type of fish or Q to quit: salmon\n",
      "Look at my list of fish: ['salmon']\n",
      "salmon has been removed from list\n",
      "[]\n",
      "I have no fish. Goodbye!\n"
     ]
    }
   ],
   "source": [
    "fish_list = [\"salmon\", \"cod\"]\n",
    "print(\"Look at my list of fish: \" + str(fish_list))\n",
    "\n",
    "def list_o_matic(fstring):\n",
    "  if fstring == \"\":\n",
    "    fstring = fish_list.pop()\n",
    "    print(fstring.lower() + \" popped from list\")\n",
    "    return fish_list.pop()\n",
    "  elif fstring.lower() in fish_list:\n",
    "    print(fstring.lower() + \" has been removed from list\")\n",
    "    return fish_list.remove(fstring)\n",
    "  else:\n",
    "    print(\"1 instance of \" + fstring.lower() + \" appended to list\")\n",
    "    return fish_list.append(fstring)\n",
    "\n",
    "while fish_list:\n",
    "  new_fish = input(\"Enter any type of fish or Q to quit: \")\n",
    "  if new_fish.upper() == \"Q\":\n",
    "    print(\"Goodbye, and thanks for all the fish!\")\n",
    "    break\n",
    "else:\n",
    "    print(\"Look at my list of fish: \" + str(fish_list))\n",
    "    list_o_matic(new_fish)\n",
    "    print(fish_list)\n",
    "print(\"I have no fish. Goodbye!\")\n"
   ]
  },
  {
   "cell_type": "code",
   "execution_count": 7,
   "metadata": {},
   "outputs": [
    {
     "ename": "SyntaxError",
     "evalue": "invalid syntax (<ipython-input-7-66f90c27191b>, line 23)",
     "output_type": "error",
     "traceback": [
      "\u001b[1;36m  File \u001b[1;32m\"<ipython-input-7-66f90c27191b>\"\u001b[1;36m, line \u001b[1;32m23\u001b[0m\n\u001b[1;33m    if new_item.upper() == \"Q\":\u001b[0m\n\u001b[1;37m                              ^\u001b[0m\n\u001b[1;31mSyntaxError\u001b[0m\u001b[1;31m:\u001b[0m invalid syntax\n"
     ]
    }
   ],
   "source": [
    "\n",
    "    \n",
    "    \n",
    "        \n",
    "        \n",
    "    \n",
    "        \n",
    "        \n",
    "\n",
    "    \n",
    "        \n",
    "        \n",
    "    \n",
    "\n",
    "    \n",
    "        \n",
    "    \n",
    "   \n",
    "                    \n",
    "                     \n",
    "\n",
    "                     \n",
    "                     \n",
    "                     \n",
    "\n",
    "                     \n",
    "                     \n",
    "    \n",
    "    \n",
    "    \n",
    "    \n",
    "        "
   ]
  },
  {
   "cell_type": "code",
   "execution_count": 1,
   "metadata": {},
   "outputs": [
    {
     "ename": "SyntaxError",
     "evalue": "invalid syntax (<ipython-input-1-3328c87448ca>, line 21)",
     "output_type": "error",
     "traceback": [
      "\u001b[1;36m  File \u001b[1;32m\"<ipython-input-1-3328c87448ca>\"\u001b[1;36m, line \u001b[1;32m21\u001b[0m\n\u001b[1;33m    if new_item == \"Q\":\u001b[0m\n\u001b[1;37m                      ^\u001b[0m\n\u001b[1;31mSyntaxError\u001b[0m\u001b[1;31m:\u001b[0m invalid syntax\n"
     ]
    }
   ],
   "source": [
    "list = [\"ali\", \"hamza\", \"bilal\", \"zahid\", \"aslam\", \"imtiaz\"]\n",
    "print(\"The original list: \", list)\n",
    "\n",
    "def list_o_matic(item):\n",
    "    \n",
    "    if item == \"\":\n",
    "        item = list.pop()\n",
    "        print(item + \" Popped from the list\")\n",
    "        print(list)\n",
    "    \n",
    "    elif item in list:\n",
    "        list.remove(item)\n",
    "        print(list)\n",
    "    \n",
    "    else:\n",
    "        list.append(item)\n",
    "        print(item.lower() + \" have been appended at the end of list\")\n",
    "        \n",
    "while list:\n",
    "    new_item = input(print(\"Enter any name or write 'Q' to end: \")\n",
    "    if new_item == \"Q\":\n",
    "                     print(\"Good Bye! the list has ended\")\n",
    "                     break\n",
    "                     \n",
    "     else:\n",
    "                     list_o_matic(new_item)\n",
    "                     print(list)\n",
    "                     break\n",
    "                     \n",
    "                     \n",
    "                     \n",
    "                     \n",
    "    \n",
    "    \n",
    "                     \n",
    "                     \n",
    "                     \n",
    "    \n",
    "        \n",
    "    \n",
    "print(\"The list has no content remaing, the list is empty now...\")"
   ]
  },
  {
   "cell_type": "code",
   "execution_count": 8,
   "metadata": {},
   "outputs": [
    {
     "name": "stdout",
     "output_type": "stream",
     "text": [
      "The original list:  ['ali', 'hamza', 'bilal', 'zahid', 'aslam', 'imtiaz'] \n",
      "\n"
     ]
    }
   ],
   "source": [
    "list = [\"ali\", \"hamza\", \"bilal\", \"zahid\", \"aslam\", \"imtiaz\"]\n",
    "print(\"The original list: \",list, \"\\n\")\n",
    "def list_o_matic():\n",
    "    inp = input(\"Enter a name or 'quit' to end: \")\n",
    "    for i in list:\n",
    "        if i in list:\n",
    "            list.pop()\n",
    "        else:\n",
    "            list.append(i)\n",
    "    print(list)\n"
   ]
  },
  {
   "cell_type": "code",
   "execution_count": 9,
   "metadata": {},
   "outputs": [
    {
     "name": "stdout",
     "output_type": "stream",
     "text": [
      "Enter a name or 'quit' to end: ali\n",
      "['ali', 'hamza', 'bilal']\n"
     ]
    }
   ],
   "source": [
    "list_o_matic()"
   ]
  },
  {
   "cell_type": "code",
   "execution_count": 4,
   "metadata": {},
   "outputs": [
    {
     "name": "stdout",
     "output_type": "stream",
     "text": [
      "Look at my list of fish: ['salmon', 'cod']\n",
      "Enter any type of fish or Q to quit: Ali\n",
      "Look at my list of fish: ['salmon', 'cod']\n",
      "1 instance of ali appended to list\n",
      "['salmon', 'cod', 'Ali']\n",
      "Enter any type of fish or Q to quit: COD\n",
      "Look at my list of fish: ['salmon', 'cod', 'Ali']\n",
      "cod has been removed from list\n"
     ]
    },
    {
     "ename": "ValueError",
     "evalue": "list.remove(x): x not in list",
     "output_type": "error",
     "traceback": [
      "\u001b[1;31m---------------------------------------------------------------------------\u001b[0m",
      "\u001b[1;31mValueError\u001b[0m                                Traceback (most recent call last)",
      "\u001b[1;32m<ipython-input-4-350753ac573e>\u001b[0m in \u001b[0;36m<module>\u001b[1;34m\u001b[0m\n\u001b[0;32m     21\u001b[0m     \u001b[1;32melse\u001b[0m\u001b[1;33m:\u001b[0m\u001b[1;33m\u001b[0m\u001b[1;33m\u001b[0m\u001b[0m\n\u001b[0;32m     22\u001b[0m         \u001b[0mprint\u001b[0m\u001b[1;33m(\u001b[0m\u001b[1;34m\"Look at my list of fish: \"\u001b[0m \u001b[1;33m+\u001b[0m \u001b[0mstr\u001b[0m\u001b[1;33m(\u001b[0m\u001b[0mfish_list\u001b[0m\u001b[1;33m)\u001b[0m\u001b[1;33m)\u001b[0m\u001b[1;33m\u001b[0m\u001b[1;33m\u001b[0m\u001b[0m\n\u001b[1;32m---> 23\u001b[1;33m         \u001b[0mlist_o_matic\u001b[0m\u001b[1;33m(\u001b[0m\u001b[0mnew_fish\u001b[0m\u001b[1;33m)\u001b[0m\u001b[1;33m\u001b[0m\u001b[1;33m\u001b[0m\u001b[0m\n\u001b[0m\u001b[0;32m     24\u001b[0m         \u001b[0mprint\u001b[0m\u001b[1;33m(\u001b[0m\u001b[0mfish_list\u001b[0m\u001b[1;33m)\u001b[0m\u001b[1;33m\u001b[0m\u001b[1;33m\u001b[0m\u001b[0m\n\u001b[0;32m     25\u001b[0m \u001b[0mprint\u001b[0m\u001b[1;33m(\u001b[0m\u001b[1;34m\"I have no fish. Goodbye!\"\u001b[0m\u001b[1;33m)\u001b[0m\u001b[1;33m\u001b[0m\u001b[1;33m\u001b[0m\u001b[0m\n",
      "\u001b[1;32m<ipython-input-4-350753ac573e>\u001b[0m in \u001b[0;36mlist_o_matic\u001b[1;34m(fstring)\u001b[0m\n\u001b[0;32m      9\u001b[0m   \u001b[1;32melif\u001b[0m \u001b[0mfstring\u001b[0m\u001b[1;33m.\u001b[0m\u001b[0mlower\u001b[0m\u001b[1;33m(\u001b[0m\u001b[1;33m)\u001b[0m \u001b[1;32min\u001b[0m \u001b[0mfish_list\u001b[0m\u001b[1;33m:\u001b[0m\u001b[1;33m\u001b[0m\u001b[1;33m\u001b[0m\u001b[0m\n\u001b[0;32m     10\u001b[0m     \u001b[0mprint\u001b[0m\u001b[1;33m(\u001b[0m\u001b[0mfstring\u001b[0m\u001b[1;33m.\u001b[0m\u001b[0mlower\u001b[0m\u001b[1;33m(\u001b[0m\u001b[1;33m)\u001b[0m \u001b[1;33m+\u001b[0m \u001b[1;34m\" has been removed from list\"\u001b[0m\u001b[1;33m)\u001b[0m\u001b[1;33m\u001b[0m\u001b[1;33m\u001b[0m\u001b[0m\n\u001b[1;32m---> 11\u001b[1;33m     \u001b[1;32mreturn\u001b[0m \u001b[0mfish_list\u001b[0m\u001b[1;33m.\u001b[0m\u001b[0mremove\u001b[0m\u001b[1;33m(\u001b[0m\u001b[0mfstring\u001b[0m\u001b[1;33m)\u001b[0m\u001b[1;33m\u001b[0m\u001b[1;33m\u001b[0m\u001b[0m\n\u001b[0m\u001b[0;32m     12\u001b[0m   \u001b[1;32melse\u001b[0m\u001b[1;33m:\u001b[0m\u001b[1;33m\u001b[0m\u001b[1;33m\u001b[0m\u001b[0m\n\u001b[0;32m     13\u001b[0m     \u001b[0mprint\u001b[0m\u001b[1;33m(\u001b[0m\u001b[1;34m\"1 instance of \"\u001b[0m \u001b[1;33m+\u001b[0m \u001b[0mfstring\u001b[0m\u001b[1;33m.\u001b[0m\u001b[0mlower\u001b[0m\u001b[1;33m(\u001b[0m\u001b[1;33m)\u001b[0m \u001b[1;33m+\u001b[0m \u001b[1;34m\" appended to list\"\u001b[0m\u001b[1;33m)\u001b[0m\u001b[1;33m\u001b[0m\u001b[1;33m\u001b[0m\u001b[0m\n",
      "\u001b[1;31mValueError\u001b[0m: list.remove(x): x not in list"
     ]
    }
   ],
   "source": [
    "fish_list = [\"salmon\", \"cod\"]\n",
    "print(\"Look at my list of fish: \" + str(fish_list))\n",
    "\n",
    "def list_o_matic(fstring):\n",
    "  if fstring == \"\":\n",
    "    fstring = fish_list.pop()\n",
    "    print(fstring.lower() + \" popped from list\")\n",
    "    return fish_list.pop()\n",
    "  elif fstring.lower() in fish_list:\n",
    "    print(fstring.lower() + \" has been removed from list\")\n",
    "    return fish_list.remove(fstring)\n",
    "  else:\n",
    "    print(\"1 instance of \" + fstring.lower() + \" appended to list\")\n",
    "    return fish_list.append(fstring)\n",
    "\n",
    "while fish_list:\n",
    "    new_fish = input(\"Enter any type of fish or Q to quit: \")\n",
    "    if new_fish.upper() == \"Q\":\n",
    "        print(\"Goodbye, and thanks for all the fish!\")\n",
    "        break\n",
    "    else:\n",
    "        print(\"Look at my list of fish: \" + str(fish_list))\n",
    "        list_o_matic(new_fish)\n",
    "        print(fish_list)\n",
    "print(\"I have no fish. Goodbye!\")\n"
   ]
  },
  {
   "cell_type": "code",
   "execution_count": 1,
   "metadata": {},
   "outputs": [
    {
     "name": "stdout",
     "output_type": "stream",
     "text": [
      "look at all the animals:  ['rabbit', 'panther', 'tiger', 'Lion', 'Zebra']\n",
      "enter the name of an animal: \n",
      "Zebra has been popped from the list\n",
      "look at all the animals:  ['rabbit', 'panther', 'tiger', 'Lion']\n",
      "enter the name of an animal: \n",
      "Lion has been popped from the list\n",
      "look at all the animals:  ['rabbit', 'panther', 'tiger']\n",
      "enter the name of an animal: \n",
      "tiger has been popped from the list\n",
      "look at all the animals:  ['rabbit', 'panther']\n",
      "enter the name of an animal: \n",
      "panther has been popped from the list\n",
      "look at all the animals:  ['rabbit']\n",
      "enter the name of an animal: \n",
      "rabbit has been popped from the list\n"
     ]
    }
   ],
   "source": [
    "animals = [\"rabbit\", \"panther\", \"tiger\", \"Lion\", \"Zebra\"]\n",
    "\n",
    "def list_o_matic(inp):\n",
    "            if inp == \"\":\n",
    "                a = animals.pop()\n",
    "                print(a, \"has been popped from the list\")\n",
    "                return inp\n",
    "            elif inp in animals:\n",
    "                animals.remove(inp)\n",
    "                print(\"'\"+inp+\"'\", \"has been removed from the list\")\n",
    "                return inp\n",
    "            else:\n",
    "                animals.append(inp)\n",
    "                print(\"'\"+inp+\"'\", \"has been added to the list\")\n",
    "                return inp\n",
    "\n",
    "while animals:\n",
    "    print(\"look at all the animals: \", animals)\n",
    "    inp = input(\"enter the name of an animal: \")\n",
    "        \n",
    "    if inp == \"quit\":\n",
    "        print(\"Goodbye!\")\n",
    "        break\n",
    "    else:\n",
    "        list_o_matic(inp)"
   ]
  },
  {
   "cell_type": "code",
   "execution_count": null,
   "metadata": {},
   "outputs": [],
   "source": []
  }
 ],
 "metadata": {
  "kernelspec": {
   "display_name": "Python 3",
   "language": "python",
   "name": "python3"
  },
  "language_info": {
   "codemirror_mode": {
    "name": "ipython",
    "version": 3
   },
   "file_extension": ".py",
   "mimetype": "text/x-python",
   "name": "python",
   "nbconvert_exporter": "python",
   "pygments_lexer": "ipython3",
   "version": "3.7.4"
  }
 },
 "nbformat": 4,
 "nbformat_minor": 2
}
