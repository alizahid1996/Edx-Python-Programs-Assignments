{
 "cells": [
  {
   "cell_type": "code",
   "execution_count": 2,
   "metadata": {},
   "outputs": [
    {
     "name": "stderr",
     "output_type": "stream",
     "text": [
      "  % Total    % Received % Xferd  Average Speed   Time    Time     Time  Current\n",
      "                                 Dload  Upload   Total   Spent    Left  Speed\n",
      "\n",
      "  0     0    0     0    0     0      0      0 --:--:-- --:--:-- --:--:--     0\n",
      "  0     0    0     0    0     0      0      0 --:--:-- --:--:-- --:--:--     0\n",
      "100   161  100   161    0     0    148      0  0:00:01  0:00:01 --:--:--   148\n"
     ]
    },
    {
     "name": "stdout",
     "output_type": "stream",
     "text": [
      "list any 5 of the first 20 elements in the Period table\n",
      "Enter the name of an element: hydrogen\n",
      "Enter the name of an element: helium\n",
      "Enter the name of an element: lithium\n",
      "Enter the name of an element: Beryllium\n",
      "Enter the name of an element: Boron\n",
      "60 % correct\n",
      "\n",
      "Found: Hydrogen Helium Lithium \n",
      "Not Found: Beryllium Boron "
     ]
    }
   ],
   "source": [
    "def get_names():\n",
    "    element5 = []\n",
    "    print(\"list any 5 of the first 20 elements in the Period table\")\n",
    "    while len(element5) < 5:\n",
    "        name = input(\"Enter the name of an element: \")\n",
    "        if name in element5:\n",
    "            print(name, \"was already entered\")\n",
    "        elif name == \"\":\n",
    "            print(\"don't allow empty strings\")\n",
    "        else:\n",
    "            element5.append(name)\n",
    "    return element5\n",
    "!curl https://raw.githubusercontent.com/MicrosoftLearning/intropython/master/elements1_20.txt -o elements1_20.txt\n",
    "file = open('elements1_20.txt', 'r')\n",
    "\n",
    "elements_list = []\n",
    "ele_temp = file.readline()\n",
    "while ele_temp:\n",
    "    elements_list.append(ele_temp.strip().lower())\n",
    "    ele_temp = file.readline()\n",
    "\n",
    "# Call the get_names() function\n",
    "responses_list = get_names()\n",
    "\n",
    "# check if responses are in the list of elements\n",
    "correct_list = []\n",
    "incorrect_list = []\n",
    "\n",
    "for n in range(5):\n",
    "    if responses_list[n] in elements_list:\n",
    "        correct_list.append(responses_list[n])\n",
    "    else:\n",
    "        incorrect_list.append(responses_list[n])\n",
    "\n",
    "# calculate the % correct\n",
    "correct = len(correct_list) * 20\n",
    "    \n",
    "# Print output    \n",
    "print(correct, \"% correct\")\n",
    "\n",
    "print(\"\\nFound:\", end = \" \")\n",
    "for item in correct_list:\n",
    "    print(item.title(), end = \" \")\n",
    "\n",
    "print(\"\\nNot Found:\", end = \" \")    \n",
    "for item in incorrect_list:\n",
    "    print(item.title(), end = \" \")\n",
    "\n",
    "\n",
    "file.close()"
   ]
  },
  {
   "cell_type": "code",
   "execution_count": 5,
   "metadata": {},
   "outputs": [
    {
     "name": "stderr",
     "output_type": "stream",
     "text": [
      "  % Total    % Received % Xferd  Average Speed   Time    Time     Time  Current\n",
      "                                 Dload  Upload   Total   Spent    Left  Speed\n",
      "\n",
      "  0     0    0     0    0     0      0      0 --:--:-- --:--:-- --:--:--     0\n",
      "  0     0    0     0    0     0      0      0 --:--:-- --:--:-- --:--:--     0\n",
      "100   161  100   161    0     0    103      0  0:00:01  0:00:01 --:--:--   103\n"
     ]
    }
   ],
   "source": [
    "!curl https://raw.githubusercontent.com/MicrosoftLearning/intropython/master/elements1_20.txt -o elements1_20.txt"
   ]
  },
  {
   "cell_type": "code",
   "execution_count": null,
   "metadata": {},
   "outputs": [
    {
     "name": "stdout",
     "output_type": "stream",
     "text": [
      "Enter the name of an element:hydrogen\n",
      "Enter the name of an element:helium\n"
     ]
    }
   ],
   "source": [
    "\n",
    "elem = open(\"elements1_20.txt\",\"r\")\n",
    "\n",
    "elem_temp = elem.readline()\n",
    "\n",
    "while elem_temp:\n",
    "    element_names = elem_temp.strip().lower()\n",
    "    elem_temp = elem.readline()\n",
    "\n",
    "correct_list = []\n",
    "incorrect_list = []\n",
    "element_list = []\n",
    "\n",
    "def get_names():\n",
    "    count = 0\n",
    "    while count <= 4:\n",
    "        element = input(\"Enter the name of an element:\")\n",
    "        if element.lower() in element_list:\n",
    "            print(element,\"already entered in list. <- no duplicates allowed\")\n",
    "        elif len(element) > 0:\n",
    "            element_list.append(element.lower())\n",
    "            count += 1\n",
    "    return element_list\n",
    "\n",
    "get_names()\n",
    "\n",
    "for i in element_list:\n",
    "    if i in element_names:\n",
    "        correct_list.append(i)\n",
    "    else: \n",
    "        incorrect_list.append(i)\n",
    "    \n",
    "num = len(correct_list)\n",
    "\n",
    "correct_num = num * 20\n",
    "\n",
    "print(correct_num,\"%\",\"correct\")\n",
    "print(\"Found: \",correct_list)\n",
    "print(\"Not Found: \",incorrect_list)\n",
    "\n",
    "print(element_names)"
   ]
  },
  {
   "cell_type": "code",
   "execution_count": null,
   "metadata": {},
   "outputs": [],
   "source": []
  }
 ],
 "metadata": {
  "kernelspec": {
   "display_name": "Python 3",
   "language": "python",
   "name": "python3"
  },
  "language_info": {
   "codemirror_mode": {
    "name": "ipython",
    "version": 3
   },
   "file_extension": ".py",
   "mimetype": "text/x-python",
   "name": "python",
   "nbconvert_exporter": "python",
   "pygments_lexer": "ipython3",
   "version": "3.7.4"
  }
 },
 "nbformat": 4,
 "nbformat_minor": 2
}
